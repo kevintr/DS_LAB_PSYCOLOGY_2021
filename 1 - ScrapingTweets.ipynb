{
 "cells": [
  {
   "cell_type": "markdown",
   "metadata": {},
   "source": [
    "# Caso Astrazeneca in Eu e GB"
   ]
  },
  {
   "cell_type": "code",
   "execution_count": null,
   "metadata": {},
   "outputs": [],
   "source": [
    "import os \n",
    "from bsi_sentiment.twitter import search_tweets_sn\n",
    "import pandas as pd\n",
    "import datetime as dt\n",
    "from datetime import datetime\n",
    "import qgrid\n",
    "import glob"
   ]
  },
  {
   "cell_type": "code",
   "execution_count": 137,
   "metadata": {},
   "outputs": [],
   "source": [
    "os.chdir(r'C:\\Users\\tranchinake\\Desktop\\DataScienceUniversity\\LabBusinessAnalytic\\Psicology\\DS_LAB_PSYCOLOGY_2021')"
   ]
  },
  {
   "cell_type": "code",
   "execution_count": null,
   "metadata": {},
   "outputs": [],
   "source": [
    "path = str(r'C:\\Users\\tranchinake\\Downloads\\full_dataset')\n",
    "path = path.replace(\"\\\\\",\"/\")\n",
    "os.chdir(path)"
   ]
  },
  {
   "cell_type": "markdown",
   "metadata": {},
   "source": [
    "#### Estrazione dati\n",
    "\n",
    "L'estrazione avviene tramite script scraping. Lo script prevede come input:\n",
    "\n",
    "1) la parola da cercare (unsensitive)\n",
    "\n",
    "2) la città di riferimento\n",
    "\n",
    "3) il raggio in km del cerchio all'interno del quale cerchiamo i tweets \n",
    "\n",
    "4) il numero totale di tweet\n",
    "\n",
    "5) Periodo Di Estrazione\n"
   ]
  },
  {
   "cell_type": "code",
   "execution_count": 139,
   "metadata": {},
   "outputs": [],
   "source": [
    "def extractDataAndSaveInCsv(citta,parolaCercata,raggio,location,area):\n",
    "    # prelevo i tweets\n",
    "    tweets = search_tweets_sn(\n",
    "      q=parolaCercata,\n",
    "      since=\"2021-03-01\",\n",
    "      until=\"2021-03-31\",\n",
    "      near=citta,\n",
    "      radius=raggio,\n",
    "      lang=\"en\",\n",
    "      max_tweets=100000\n",
    "    )\n",
    "    \n",
    "    if(len(tweets.tweets)!=0):\n",
    "        # salvo il dataframe\n",
    "        directory = './dataset/dataset_europa_inghilterra_10042021/'\n",
    "        file= \"tweet_\"+\"marzo\"+\"_\"+parolaCercata+\"_\"+citta+\"_\"+raggio+\".csv\"\n",
    "        tweets.to_csv(path= directory + file)\n",
    "        \n",
    "        \n",
    "\n",
    "        #aggiungo la location\n",
    "        df = pd.read_csv(directory+file)\n",
    "        \n",
    "        parolaCercata = parolaCercata.lower()\n",
    "        if \"z\" in parolaCercata: \n",
    "            df['parola_cercata'] = \"AstraZeneca\"\n",
    "        else:\n",
    "            df['parola_cercata'] = \"EU\"\n",
    "            \n",
    "        df['location'] = location\n",
    "        df['area'] = area\n",
    "        df['citta'] = citta\n",
    "        df['raggio'] = raggio\n",
    "        df.to_csv(directory + file, index=False)\n",
    "        print(file)\n",
    "        return df\n",
    "    return print(\"nessun tweets trovato con parolaCercata \"+ parolaCercata)"
   ]
  },
  {
   "cell_type": "code",
   "execution_count": 124,
   "metadata": {},
   "outputs": [
    {
     "name": "stderr",
     "output_type": "stream",
     "text": [
      "Downloading tweets:   0%|                                                                                                                                                   | 3/100000 [00:01<15:24:47,  1.80it/s]\n",
      "Writing tweets    : 100%|███████████████████████████████████████████████████████████████████████████████████████████████████████████████████████████████████████████████████████████████████| 3/3 [00:00<?, ?it/s]\n",
      "Downloading tweets:   0%|                                                                                                                                                              | 0/100000 [00:00<?, ?it/s]"
     ]
    },
    {
     "name": "stdout",
     "output_type": "stream",
     "text": [
      "tweet_marzo_AstraZeneca_Lisbona_100km.csv\n"
     ]
    },
    {
     "name": "stderr",
     "output_type": "stream",
     "text": [
      "Downloading tweets:   0%|                                                                                                                                                    | 3/100000 [00:01<9:39:13,  2.88it/s]\n",
      "Writing tweets    : 100%|███████████████████████████████████████████████████████████████████████████████████████████████████████████████████████████████████████████████████████████████████| 3/3 [00:00<?, ?it/s]\n",
      "Downloading tweets:   0%|                                                                                                                                                              | 0/100000 [00:00<?, ?it/s]"
     ]
    },
    {
     "name": "stdout",
     "output_type": "stream",
     "text": [
      "tweet_marzo_Astra Zeneca_Lisbona_100km.csv\n"
     ]
    },
    {
     "name": "stderr",
     "output_type": "stream",
     "text": [
      "Downloading tweets:   0%|                                                                                                                                                   | 3/100000 [00:01<10:11:07,  2.73it/s]\n",
      "Writing tweets    : 100%|█████████████████████████████████████████████████████████████████████████████████████████████████████████████████████████████████████████████████████████| 3/3 [00:00<00:00, 3000.93it/s]\n",
      "Downloading tweets:   0%|                                                                                                                                                              | 0/100000 [00:00<?, ?it/s]"
     ]
    },
    {
     "name": "stdout",
     "output_type": "stream",
     "text": [
      "tweet_marzo_AZ_Lisbona_100km.csv\n"
     ]
    },
    {
     "name": "stderr",
     "output_type": "stream",
     "text": [
      "Downloading tweets:   0%|                                                                                                                                                   | 31/100000 [00:01<1:11:41, 23.24it/s]\n",
      "Writing tweets    : 100%|██████████████████████████████████████████████████████████████████████████████████████████████████████████████████████████████████████████████████████| 31/31 [00:00<00:00, 31024.44it/s]\n",
      "Downloading tweets:   0%|                                                                                                                                                              | 0/100000 [00:00<?, ?it/s]"
     ]
    },
    {
     "name": "stdout",
     "output_type": "stream",
     "text": [
      "tweet_marzo_EU_Lisbona_100km.csv\n"
     ]
    },
    {
     "name": "stderr",
     "output_type": "stream",
     "text": [
      "Downloading tweets:   0%|                                                                                                                                                   | 1/100000 [00:01<28:07:59,  1.01s/it]\n",
      "Writing tweets    : 100%|█████████████████████████████████████████████████████████████████████████████████████████████████████████████████████████████████████████████████████████| 1/1 [00:00<00:00, 1001.98it/s]\n",
      "Downloading tweets:   0%|                                                                                                                                                              | 0/100000 [00:00<?, ?it/s]"
     ]
    },
    {
     "name": "stdout",
     "output_type": "stream",
     "text": [
      "tweet_marzo_Europa_Lisbona_100km.csv\n"
     ]
    },
    {
     "name": "stderr",
     "output_type": "stream",
     "text": [
      "Downloading tweets:   0%|                                                                                                                                                   | 14/100000 [00:01<2:18:08, 12.06it/s]\n",
      "Writing tweets    : 100%|█████████████████████████████████████████████████████████████████████████████████████████████████████████████████████████████████████████████████████████████████| 14/14 [00:00<?, ?it/s]\n",
      "Downloading tweets:   0%|                                                                                                                                                              | 0/100000 [00:00<?, ?it/s]"
     ]
    },
    {
     "name": "stdout",
     "output_type": "stream",
     "text": [
      "tweet_marzo_Europe_Lisbona_100km.csv\n"
     ]
    },
    {
     "name": "stderr",
     "output_type": "stream",
     "text": [
      "Downloading tweets:   0%|                                                                                                                                                   | 7/100000 [00:03<12:21:04,  2.25it/s]\n",
      "Writing tweets    : 100%|█████████████████████████████████████████████████████████████████████████████████████████████████████████████████████████████████████████████████████████| 7/7 [00:00<00:00, 7057.72it/s]\n",
      "Downloading tweets:   0%|                                                                                                                                                              | 0/100000 [00:00<?, ?it/s]"
     ]
    },
    {
     "name": "stdout",
     "output_type": "stream",
     "text": [
      "tweet_marzo_AstraZeneca_Madrid_300km.csv\n"
     ]
    },
    {
     "name": "stderr",
     "output_type": "stream",
     "text": [
      "Downloading tweets:   0%|                                                                                                                                                   | 8/100000 [00:02<10:06:50,  2.75it/s]\n",
      "Writing tweets    : 100%|█████████████████████████████████████████████████████████████████████████████████████████████████████████████████████████████████████████████████████████| 8/8 [00:00<00:00, 8017.79it/s]\n",
      "Downloading tweets:   0%|                                                                                                                                                              | 0/100000 [00:00<?, ?it/s]"
     ]
    },
    {
     "name": "stdout",
     "output_type": "stream",
     "text": [
      "tweet_marzo_Astra Zeneca_Madrid_300km.csv\n"
     ]
    },
    {
     "name": "stderr",
     "output_type": "stream",
     "text": [
      "Downloading tweets:   0%|                                                                                                                                                   | 6/100000 [00:02<10:12:55,  2.72it/s]\n",
      "Writing tweets    : 100%|███████████████████████████████████████████████████████████████████████████████████████████████████████████████████████████████████████████████████████████████████| 6/6 [00:00<?, ?it/s]\n",
      "Downloading tweets:   0%|                                                                                                                                                              | 0/100000 [00:00<?, ?it/s]"
     ]
    },
    {
     "name": "stdout",
     "output_type": "stream",
     "text": [
      "tweet_marzo_AZ_Madrid_300km.csv\n"
     ]
    },
    {
     "name": "stderr",
     "output_type": "stream",
     "text": [
      "Downloading tweets:   0%|                                                                                                                                                   | 44/100000 [00:04<2:51:24,  9.72it/s]\n",
      "Writing tweets    : 100%|██████████████████████████████████████████████████████████████████████████████████████████████████████████████████████████████████████████████████████| 44/44 [00:00<00:00, 22051.54it/s]\n",
      "Downloading tweets:   0%|                                                                                                                                                              | 0/100000 [00:00<?, ?it/s]"
     ]
    },
    {
     "name": "stdout",
     "output_type": "stream",
     "text": [
      "tweet_marzo_EU_Madrid_300km.csv\n"
     ]
    },
    {
     "name": "stderr",
     "output_type": "stream",
     "text": [
      "Downloading tweets:   0%|                                                                                                                                                    | 6/100000 [00:02<9:38:33,  2.88it/s]\n",
      "Writing tweets    : 100%|█████████████████████████████████████████████████████████████████████████████████████████████████████████████████████████████████████████████████████████| 6/6 [00:00<00:00, 6017.65it/s]\n",
      "Downloading tweets:   0%|                                                                                                                                                              | 0/100000 [00:00<?, ?it/s]"
     ]
    },
    {
     "name": "stdout",
     "output_type": "stream",
     "text": [
      "tweet_marzo_Europa_Madrid_300km.csv\n"
     ]
    },
    {
     "name": "stderr",
     "output_type": "stream",
     "text": [
      "Downloading tweets:   0%|                                                                                                                                                   | 46/100000 [00:03<1:49:36, 15.20it/s]\n",
      "Writing tweets    : 100%|██████████████████████████████████████████████████████████████████████████████████████████████████████████████████████████████████████████████████████| 46/46 [00:00<00:00, 23100.81it/s]\n",
      "Downloading tweets:   0%|                                                                                                                                                              | 0/100000 [00:00<?, ?it/s]"
     ]
    },
    {
     "name": "stdout",
     "output_type": "stream",
     "text": [
      "tweet_marzo_Europe_Madrid_300km.csv\n"
     ]
    },
    {
     "name": "stderr",
     "output_type": "stream",
     "text": [
      "Downloading tweets:   0%|                                                                                                                                                   | 24/100000 [00:06<7:49:18,  3.55it/s]\n",
      "Writing tweets    : 100%|██████████████████████████████████████████████████████████████████████████████████████████████████████████████████████████████████████████████████████| 24/24 [00:00<00:00, 24070.61it/s]\n",
      "Downloading tweets:   0%|                                                                                                                                                              | 0/100000 [00:00<?, ?it/s]"
     ]
    },
    {
     "name": "stdout",
     "output_type": "stream",
     "text": [
      "tweet_marzo_AstraZeneca_Roma_400km.csv\n"
     ]
    },
    {
     "name": "stderr",
     "output_type": "stream",
     "text": [
      "Downloading tweets:   0%|                                                                                                                                                  | 13/100000 [00:06<14:04:41,  1.97it/s]\n",
      "Writing tweets    : 100%|█████████████████████████████████████████████████████████████████████████████████████████████████████████████████████████████████████████████████████████████████| 13/13 [00:00<?, ?it/s]\n",
      "Downloading tweets:   0%|                                                                                                                                                              | 0/100000 [00:00<?, ?it/s]"
     ]
    },
    {
     "name": "stdout",
     "output_type": "stream",
     "text": [
      "tweet_marzo_Astra Zeneca_Roma_400km.csv\n"
     ]
    },
    {
     "name": "stderr",
     "output_type": "stream",
     "text": [
      "Downloading tweets:   0%|                                                                                                                                                              | 0/100000 [00:02<?, ?it/s]\n",
      "Downloading tweets:   0%|                                                                                                                                                              | 0/100000 [00:00<?, ?it/s]"
     ]
    },
    {
     "name": "stdout",
     "output_type": "stream",
     "text": [
      "nessun tweets trovato con parolaCercata AZ\n"
     ]
    },
    {
     "name": "stderr",
     "output_type": "stream",
     "text": [
      "Downloading tweets:   0%|                                                                                                                                                   | 26/100000 [00:03<3:54:37,  7.10it/s]\n",
      "Writing tweets    : 100%|██████████████████████████████████████████████████████████████████████████████████████████████████████████████████████████████████████████████████████| 26/26 [00:00<00:00, 26101.46it/s]\n",
      "Downloading tweets:   0%|                                                                                                                                                              | 0/100000 [00:00<?, ?it/s]"
     ]
    },
    {
     "name": "stdout",
     "output_type": "stream",
     "text": [
      "tweet_marzo_EU_Roma_400km.csv\n"
     ]
    },
    {
     "name": "stderr",
     "output_type": "stream",
     "text": [
      "Downloading tweets:   0%|                                                                                                                                                   | 2/100000 [00:03<46:09:20,  1.66s/it]\n",
      "Writing tweets    : 100%|███████████████████████████████████████████████████████████████████████████████████████████████████████████████████████████████████████████████████████████████████| 2/2 [00:00<?, ?it/s]\n",
      "Downloading tweets:   0%|                                                                                                                                                              | 0/100000 [00:00<?, ?it/s]"
     ]
    },
    {
     "name": "stdout",
     "output_type": "stream",
     "text": [
      "tweet_marzo_Europa_Roma_400km.csv\n"
     ]
    },
    {
     "name": "stderr",
     "output_type": "stream",
     "text": [
      "Downloading tweets:   0%|                                                                                                                                                   | 39/100000 [00:04<2:59:15,  9.29it/s]\n",
      "Writing tweets    : 100%|██████████████████████████████████████████████████████████████████████████████████████████████████████████████████████████████████████████████████████| 39/39 [00:00<00:00, 19608.95it/s]\n",
      "Downloading tweets:   0%|                                                                                                                                                              | 0/100000 [00:00<?, ?it/s]"
     ]
    },
    {
     "name": "stdout",
     "output_type": "stream",
     "text": [
      "tweet_marzo_Europe_Roma_400km.csv\n"
     ]
    },
    {
     "name": "stderr",
     "output_type": "stream",
     "text": [
      "Downloading tweets:   0%|                                                                                                                                                  | 15/100000 [00:11<20:31:03,  1.35it/s]\n",
      "Writing tweets    : 100%|██████████████████████████████████████████████████████████████████████████████████████████████████████████████████████████████████████████████████████| 15/15 [00:00<00:00, 15054.93it/s]\n",
      "Downloading tweets:   0%|                                                                                                                                                              | 0/100000 [00:00<?, ?it/s]"
     ]
    },
    {
     "name": "stdout",
     "output_type": "stream",
     "text": [
      "tweet_marzo_AstraZeneca_frankfurt_300km.csv\n"
     ]
    },
    {
     "name": "stderr",
     "output_type": "stream",
     "text": [
      "Downloading tweets:   0%|                                                                                                                                                  | 14/100000 [00:06<13:01:02,  2.13it/s]\n",
      "Writing tweets    : 100%|█████████████████████████████████████████████████████████████████████████████████████████████████████████████████████████████████████████████████████████████████| 14/14 [00:00<?, ?it/s]\n",
      "Downloading tweets:   0%|                                                                                                                                                              | 0/100000 [00:00<?, ?it/s]"
     ]
    },
    {
     "name": "stdout",
     "output_type": "stream",
     "text": [
      "tweet_marzo_Astra Zeneca_frankfurt_300km.csv\n"
     ]
    },
    {
     "name": "stderr",
     "output_type": "stream",
     "text": [
      "Downloading tweets:   0%|                                                                                                                                                   | 2/100000 [00:03<47:29:12,  1.71s/it]\n",
      "Writing tweets    : 100%|███████████████████████████████████████████████████████████████████████████████████████████████████████████████████████████████████████████████████████████████████| 2/2 [00:00<?, ?it/s]\n",
      "Downloading tweets:   0%|                                                                                                                                                              | 0/100000 [00:00<?, ?it/s]"
     ]
    },
    {
     "name": "stdout",
     "output_type": "stream",
     "text": [
      "tweet_marzo_AZ_frankfurt_300km.csv\n"
     ]
    },
    {
     "name": "stderr",
     "output_type": "stream",
     "text": [
      "Downloading tweets:   0%|                                                                                                                                                   | 35/100000 [00:08<6:23:59,  4.34it/s]\n",
      "Writing tweets    : 100%|██████████████████████████████████████████████████████████████████████████████████████████████████████████████████████████████████████████████████████| 35/35 [00:00<00:00, 35044.32it/s]\n",
      "Downloading tweets:   0%|                                                                                                                                                              | 0/100000 [00:00<?, ?it/s]"
     ]
    },
    {
     "name": "stdout",
     "output_type": "stream",
     "text": [
      "tweet_marzo_EU_frankfurt_300km.csv\n"
     ]
    },
    {
     "name": "stderr",
     "output_type": "stream",
     "text": [
      "Downloading tweets:   0%|                                                                                                                                                   | 3/100000 [00:05<49:27:37,  1.78s/it]\n",
      "Writing tweets    : 100%|███████████████████████████████████████████████████████████████████████████████████████████████████████████████████████████████████████████████████████████████████| 3/3 [00:00<?, ?it/s]\n",
      "Downloading tweets:   0%|                                                                                                                                                              | 0/100000 [00:00<?, ?it/s]"
     ]
    },
    {
     "name": "stdout",
     "output_type": "stream",
     "text": [
      "tweet_marzo_Europa_frankfurt_300km.csv\n"
     ]
    },
    {
     "name": "stderr",
     "output_type": "stream",
     "text": [
      "Downloading tweets:   0%|                                                                                                                                                   | 31/100000 [00:03<3:14:35,  8.56it/s]\n",
      "Writing tweets    : 100%|██████████████████████████████████████████████████████████████████████████████████████████████████████████████████████████████████████████████████████| 31/31 [00:00<00:00, 31098.64it/s]\n",
      "Downloading tweets:   0%|                                                                                                                                                              | 0/100000 [00:00<?, ?it/s]"
     ]
    },
    {
     "name": "stdout",
     "output_type": "stream",
     "text": [
      "tweet_marzo_Europe_frankfurt_300km.csv\n"
     ]
    },
    {
     "name": "stderr",
     "output_type": "stream",
     "text": [
      "Downloading tweets:   0%|                                                                                                                                                   | 1/100000 [00:01<37:54:27,  1.36s/it]\n",
      "Writing tweets    : 100%|█████████████████████████████████████████████████████████████████████████████████████████████████████████████████████████████████████████████████████████| 1/1 [00:00<00:00, 1003.42it/s]\n",
      "Downloading tweets:   0%|                                                                                                                                                              | 0/100000 [00:00<?, ?it/s]"
     ]
    },
    {
     "name": "stdout",
     "output_type": "stream",
     "text": [
      "tweet_marzo_AstraZeneca_Praga_100km.csv\n"
     ]
    },
    {
     "name": "stderr",
     "output_type": "stream",
     "text": [
      "Downloading tweets:   0%|                                                                                                                                                   | 1/100000 [00:00<23:18:46,  1.19it/s]\n",
      "Writing tweets    : 100%|█████████████████████████████████████████████████████████████████████████████████████████████████████████████████████████████████████████████████████████| 1/1 [00:00<00:00, 1001.98it/s]\n",
      "Downloading tweets:   0%|                                                                                                                                                              | 0/100000 [00:00<?, ?it/s]"
     ]
    },
    {
     "name": "stdout",
     "output_type": "stream",
     "text": [
      "tweet_marzo_Astra Zeneca_Praga_100km.csv\n"
     ]
    },
    {
     "name": "stderr",
     "output_type": "stream",
     "text": [
      "Downloading tweets:   0%|                                                                                                                                                              | 0/100000 [00:00<?, ?it/s]\n",
      "Downloading tweets:   0%|                                                                                                                                                              | 0/100000 [00:00<?, ?it/s]"
     ]
    },
    {
     "name": "stdout",
     "output_type": "stream",
     "text": [
      "nessun tweets trovato con parolaCercata AZ\n"
     ]
    },
    {
     "name": "stderr",
     "output_type": "stream",
     "text": [
      "Downloading tweets:   0%|                                                                                                                                                   | 15/100000 [00:01<2:01:13, 13.75it/s]\n",
      "Writing tweets    : 100%|█████████████████████████████████████████████████████████████████████████████████████████████████████████████████████████████████████████████████████████████████| 15/15 [00:00<?, ?it/s]\n",
      "Downloading tweets:   0%|                                                                                                                                                              | 0/100000 [00:00<?, ?it/s]"
     ]
    },
    {
     "name": "stdout",
     "output_type": "stream",
     "text": [
      "tweet_marzo_EU_Praga_100km.csv\n"
     ]
    },
    {
     "name": "stderr",
     "output_type": "stream",
     "text": [
      "Downloading tweets:   0%|                                                                                                                                                   | 1/100000 [00:00<22:16:24,  1.25it/s]\n",
      "Writing tweets    : 100%|███████████████████████████████████████████████████████████████████████████████████████████████████████████████████████████████████████████████████████████████████| 1/1 [00:00<?, ?it/s]\n",
      "Downloading tweets:   0%|                                                                                                                                                              | 0/100000 [00:00<?, ?it/s]"
     ]
    },
    {
     "name": "stdout",
     "output_type": "stream",
     "text": [
      "tweet_marzo_Europa_Praga_100km.csv\n"
     ]
    },
    {
     "name": "stderr",
     "output_type": "stream",
     "text": [
      "Downloading tweets:   0%|                                                                                                                                                    | 9/100000 [00:00<2:50:18,  9.79it/s]\n",
      "Writing tweets    : 100%|█████████████████████████████████████████████████████████████████████████████████████████████████████████████████████████████████████████████████████████| 9/9 [00:00<00:00, 9022.16it/s]\n",
      "Downloading tweets:   0%|                                                                                                                                                              | 0/100000 [00:00<?, ?it/s]"
     ]
    },
    {
     "name": "stdout",
     "output_type": "stream",
     "text": [
      "tweet_marzo_Europe_Praga_100km.csv\n"
     ]
    },
    {
     "name": "stderr",
     "output_type": "stream",
     "text": [
      "Downloading tweets:   0%|                                                                                                                                                   | 14/100000 [00:04<9:18:00,  2.99it/s]\n",
      "Writing tweets    : 100%|██████████████████████████████████████████████████████████████████████████████████████████████████████████████████████████████████████████████████████| 14/14 [00:00<00:00, 14047.91it/s]\n",
      "Downloading tweets:   0%|                                                                                                                                                              | 0/100000 [00:00<?, ?it/s]"
     ]
    },
    {
     "name": "stdout",
     "output_type": "stream",
     "text": [
      "tweet_marzo_AstraZeneca_varsavia_300km.csv\n"
     ]
    },
    {
     "name": "stderr",
     "output_type": "stream",
     "text": [
      "Downloading tweets:   0%|                                                                                                                                                   | 12/100000 [00:03<8:12:05,  3.39it/s]\n",
      "Writing tweets    : 100%|█████████████████████████████████████████████████████████████████████████████████████████████████████████████████████████████████████████████████████████████████| 12/12 [00:00<?, ?it/s]\n",
      "Downloading tweets:   0%|                                                                                                                                                              | 0/100000 [00:00<?, ?it/s]"
     ]
    },
    {
     "name": "stdout",
     "output_type": "stream",
     "text": [
      "tweet_marzo_Astra Zeneca_varsavia_300km.csv\n"
     ]
    },
    {
     "name": "stderr",
     "output_type": "stream",
     "text": [
      "Downloading tweets:   0%|                                                                                                                                                   | 2/100000 [00:03<46:15:01,  1.67s/it]\n",
      "Writing tweets    : 100%|███████████████████████████████████████████████████████████████████████████████████████████████████████████████████████████████████████████████████████████████████| 2/2 [00:00<?, ?it/s]\n",
      "Downloading tweets:   0%|                                                                                                                                                              | 0/100000 [00:00<?, ?it/s]"
     ]
    },
    {
     "name": "stdout",
     "output_type": "stream",
     "text": [
      "tweet_marzo_AZ_varsavia_300km.csv\n"
     ]
    },
    {
     "name": "stderr",
     "output_type": "stream",
     "text": [
      "Downloading tweets:   0%|                                                                                                                                                   | 21/100000 [00:02<3:18:00,  8.42it/s]\n",
      "Writing tweets    : 100%|██████████████████████████████████████████████████████████████████████████████████████████████████████████████████████████████████████████████████████| 21/21 [00:00<00:00, 21046.69it/s]\n",
      "Downloading tweets:   0%|                                                                                                                                                              | 0/100000 [00:00<?, ?it/s]"
     ]
    },
    {
     "name": "stdout",
     "output_type": "stream",
     "text": [
      "tweet_marzo_EU_varsavia_300km.csv\n"
     ]
    },
    {
     "name": "stderr",
     "output_type": "stream",
     "text": [
      "Downloading tweets:   0%|                                                                                                                                                              | 0/100000 [00:02<?, ?it/s]\n",
      "Downloading tweets:   0%|                                                                                                                                                              | 0/100000 [00:00<?, ?it/s]"
     ]
    },
    {
     "name": "stdout",
     "output_type": "stream",
     "text": [
      "nessun tweets trovato con parolaCercata Europa\n"
     ]
    },
    {
     "name": "stderr",
     "output_type": "stream",
     "text": [
      "Downloading tweets:   0%|                                                                                                                                                   | 20/100000 [00:03<5:03:18,  5.49it/s]\n",
      "Writing tweets    : 100%|█████████████████████████████████████████████████████████████████████████████████████████████████████████████████████████████████████████████████████████████████| 20/20 [00:00<?, ?it/s]\n",
      "Downloading tweets:   0%|                                                                                                                                                              | 0/100000 [00:00<?, ?it/s]"
     ]
    },
    {
     "name": "stdout",
     "output_type": "stream",
     "text": [
      "tweet_marzo_Europe_varsavia_300km.csv\n"
     ]
    },
    {
     "name": "stderr",
     "output_type": "stream",
     "text": [
      "Downloading tweets:   0%|                                                                                                                                                   | 4/100000 [00:03<23:34:05,  1.18it/s]\n",
      "Writing tweets    : 100%|███████████████████████████████████████████████████████████████████████████████████████████████████████████████████████████████████████████████████████████████████| 4/4 [00:00<?, ?it/s]\n",
      "Downloading tweets:   0%|                                                                                                                                                              | 0/100000 [00:00<?, ?it/s]"
     ]
    },
    {
     "name": "stdout",
     "output_type": "stream",
     "text": [
      "tweet_marzo_AstraZeneca_Bucarest_700km.csv\n"
     ]
    },
    {
     "name": "stderr",
     "output_type": "stream",
     "text": [
      "Downloading tweets:   0%|                                                                                                                                                   | 1/100000 [00:02<66:11:52,  2.38s/it]\n",
      "Writing tweets    : 100%|███████████████████████████████████████████████████████████████████████████████████████████████████████████████████████████████████████████████████████████████████| 1/1 [00:00<?, ?it/s]\n",
      "Downloading tweets:   0%|                                                                                                                                                              | 0/100000 [00:00<?, ?it/s]"
     ]
    },
    {
     "name": "stdout",
     "output_type": "stream",
     "text": [
      "tweet_marzo_Astra Zeneca_Bucarest_700km.csv\n"
     ]
    },
    {
     "name": "stderr",
     "output_type": "stream",
     "text": [
      "Downloading tweets:   0%|                                                                                                                                                              | 0/100000 [00:02<?, ?it/s]\n",
      "Downloading tweets:   0%|                                                                                                                                                              | 0/100000 [00:00<?, ?it/s]"
     ]
    },
    {
     "name": "stdout",
     "output_type": "stream",
     "text": [
      "nessun tweets trovato con parolaCercata AZ\n"
     ]
    },
    {
     "name": "stderr",
     "output_type": "stream",
     "text": [
      "Downloading tweets:   0%|                                                                                                                                                   | 8/100000 [00:03<12:23:54,  2.24it/s]\n",
      "Writing tweets    : 100%|███████████████████████████████████████████████████████████████████████████████████████████████████████████████████████████████████████████████████████████████████| 8/8 [00:00<?, ?it/s]\n",
      "Downloading tweets:   0%|                                                                                                                                                              | 0/100000 [00:00<?, ?it/s]"
     ]
    },
    {
     "name": "stdout",
     "output_type": "stream",
     "text": [
      "tweet_marzo_EU_Bucarest_700km.csv\n"
     ]
    },
    {
     "name": "stderr",
     "output_type": "stream",
     "text": [
      "Downloading tweets:   0%|                                                                                                                                                              | 0/100000 [00:02<?, ?it/s]\n",
      "Downloading tweets:   0%|                                                                                                                                                              | 0/100000 [00:00<?, ?it/s]"
     ]
    },
    {
     "name": "stdout",
     "output_type": "stream",
     "text": [
      "nessun tweets trovato con parolaCercata Europa\n"
     ]
    },
    {
     "name": "stderr",
     "output_type": "stream",
     "text": [
      "Downloading tweets:   0%|                                                                                                                                                  | 11/100000 [00:05<13:55:49,  1.99it/s]\n",
      "Writing tweets    : 100%|███████████████████████████████████████████████████████████████████████████████████████████████████████████████████████████████████████████████████████| 11/11 [00:00<00:00, 5442.01it/s]\n",
      "Downloading tweets:   0%|                                                                                                                                                              | 0/100000 [00:00<?, ?it/s]"
     ]
    },
    {
     "name": "stdout",
     "output_type": "stream",
     "text": [
      "tweet_marzo_Europe_Bucarest_700km.csv\n"
     ]
    },
    {
     "name": "stderr",
     "output_type": "stream",
     "text": [
      "Downloading tweets:   0%|                                                                                                                                                   | 3/100000 [00:01<11:00:59,  2.52it/s]\n",
      "Writing tweets    : 100%|███████████████████████████████████████████████████████████████████████████████████████████████████████████████████████████████████████████████████████████████████| 3/3 [00:00<?, ?it/s]\n",
      "Downloading tweets:   0%|                                                                                                                                                              | 0/100000 [00:00<?, ?it/s]"
     ]
    },
    {
     "name": "stdout",
     "output_type": "stream",
     "text": [
      "tweet_marzo_AstraZeneca_Oslo_200km.csv\n"
     ]
    },
    {
     "name": "stderr",
     "output_type": "stream",
     "text": [
      "Downloading tweets:   0%|                                                                                                                                                   | 2/100000 [00:00<12:36:19,  2.20it/s]\n",
      "Writing tweets    : 100%|███████████████████████████████████████████████████████████████████████████████████████████████████████████████████████████████████████████████████████████████████| 2/2 [00:00<?, ?it/s]\n",
      "Downloading tweets:   0%|                                                                                                                                                              | 0/100000 [00:00<?, ?it/s]"
     ]
    },
    {
     "name": "stdout",
     "output_type": "stream",
     "text": [
      "tweet_marzo_Astra Zeneca_Oslo_200km.csv\n"
     ]
    },
    {
     "name": "stderr",
     "output_type": "stream",
     "text": [
      "Downloading tweets:   0%|                                                                                                                                                   | 1/100000 [00:00<25:09:49,  1.10it/s]\n",
      "Writing tweets    : 100%|███████████████████████████████████████████████████████████████████████████████████████████████████████████████████████████████████████████████████████████████████| 1/1 [00:00<?, ?it/s]\n",
      "Downloading tweets:   0%|                                                                                                                                                              | 0/100000 [00:00<?, ?it/s]"
     ]
    },
    {
     "name": "stdout",
     "output_type": "stream",
     "text": [
      "tweet_marzo_AZ_Oslo_200km.csv\n"
     ]
    },
    {
     "name": "stderr",
     "output_type": "stream",
     "text": [
      "Downloading tweets:   0%|                                                                                                                                                   | 12/100000 [00:01<2:24:19, 11.55it/s]\n",
      "Writing tweets    : 100%|█████████████████████████████████████████████████████████████████████████████████████████████████████████████████████████████████████████████████████████████████| 12/12 [00:00<?, ?it/s]\n",
      "Downloading tweets:   0%|                                                                                                                                                              | 0/100000 [00:00<?, ?it/s]"
     ]
    },
    {
     "name": "stdout",
     "output_type": "stream",
     "text": [
      "tweet_marzo_EU_Oslo_200km.csv\n"
     ]
    },
    {
     "name": "stderr",
     "output_type": "stream",
     "text": [
      "Downloading tweets:   0%|                                                                                                                                                   | 1/100000 [00:00<21:39:51,  1.28it/s]\n",
      "Writing tweets    : 100%|███████████████████████████████████████████████████████████████████████████████████████████████████████████████████████████████████████████████████████████████████| 1/1 [00:00<?, ?it/s]\n",
      "Downloading tweets:   0%|                                                                                                                                                              | 0/100000 [00:00<?, ?it/s]"
     ]
    },
    {
     "name": "stdout",
     "output_type": "stream",
     "text": [
      "tweet_marzo_Europa_Oslo_200km.csv\n"
     ]
    },
    {
     "name": "stderr",
     "output_type": "stream",
     "text": [
      "Downloading tweets:   0%|                                                                                                                                                    | 8/100000 [00:00<3:19:14,  8.36it/s]\n",
      "Writing tweets    : 100%|█████████████████████████████████████████████████████████████████████████████████████████████████████████████████████████████████████████████████████████| 8/8 [00:00<00:00, 8021.62it/s]\n",
      "Downloading tweets:   0%|                                                                                                                                                              | 0/100000 [00:00<?, ?it/s]"
     ]
    },
    {
     "name": "stdout",
     "output_type": "stream",
     "text": [
      "tweet_marzo_Europe_Oslo_200km.csv\n"
     ]
    },
    {
     "name": "stderr",
     "output_type": "stream",
     "text": [
      "Downloading tweets:   0%|                                                                                                                                                    | 4/100000 [00:01<9:43:49,  2.85it/s]\n",
      "Writing tweets    : 100%|███████████████████████████████████████████████████████████████████████████████████████████████████████████████████████████████████████████████████████████████████| 4/4 [00:00<?, ?it/s]\n",
      "Downloading tweets:   0%|                                                                                                                                                              | 0/100000 [00:00<?, ?it/s]"
     ]
    },
    {
     "name": "stdout",
     "output_type": "stream",
     "text": [
      "tweet_marzo_AstraZeneca_Stoccolma_200km.csv\n"
     ]
    },
    {
     "name": "stderr",
     "output_type": "stream",
     "text": [
      "Downloading tweets:   0%|                                                                                                                                                    | 4/100000 [00:01<8:02:01,  3.46it/s]\n",
      "Writing tweets    : 100%|███████████████████████████████████████████████████████████████████████████████████████████████████████████████████████████████████████████████████████████████████| 4/4 [00:00<?, ?it/s]\n",
      "Downloading tweets:   0%|                                                                                                                                                              | 0/100000 [00:00<?, ?it/s]"
     ]
    },
    {
     "name": "stdout",
     "output_type": "stream",
     "text": [
      "tweet_marzo_Astra Zeneca_Stoccolma_200km.csv\n"
     ]
    },
    {
     "name": "stderr",
     "output_type": "stream",
     "text": [
      "Downloading tweets:   0%|                                                                                                                                                   | 2/100000 [00:01<16:02:23,  1.73it/s]\n",
      "Writing tweets    : 100%|███████████████████████████████████████████████████████████████████████████████████████████████████████████████████████████████████████████████████████████████████| 2/2 [00:00<?, ?it/s]\n",
      "Downloading tweets:   0%|                                                                                                                                                              | 0/100000 [00:00<?, ?it/s]"
     ]
    },
    {
     "name": "stdout",
     "output_type": "stream",
     "text": [
      "tweet_marzo_AZ_Stoccolma_200km.csv\n"
     ]
    },
    {
     "name": "stderr",
     "output_type": "stream",
     "text": [
      "Downloading tweets:   0%|▏                                                                                                                                                    | 85/100000 [00:02<47:46, 34.86it/s]\n",
      "Writing tweets    : 100%|██████████████████████████████████████████████████████████████████████████████████████████████████████████████████████████████████████████████████████| 85/85 [00:00<00:00, 42609.76it/s]\n",
      "Downloading tweets:   0%|                                                                                                                                                              | 0/100000 [00:00<?, ?it/s]"
     ]
    },
    {
     "name": "stdout",
     "output_type": "stream",
     "text": [
      "tweet_marzo_EU_Stoccolma_200km.csv\n"
     ]
    },
    {
     "name": "stderr",
     "output_type": "stream",
     "text": [
      "Downloading tweets:   0%|                                                                                                                                                              | 0/100000 [00:01<?, ?it/s]\n",
      "Downloading tweets:   0%|                                                                                                                                                              | 0/100000 [00:00<?, ?it/s]"
     ]
    },
    {
     "name": "stdout",
     "output_type": "stream",
     "text": [
      "nessun tweets trovato con parolaCercata Europa\n"
     ]
    },
    {
     "name": "stderr",
     "output_type": "stream",
     "text": [
      "Downloading tweets:   0%|                                                                                                                                                     | 41/100000 [00:01<53:22, 31.21it/s]\n",
      "Writing tweets    : 100%|██████████████████████████████████████████████████████████████████████████████████████████████████████████████████████████████████████████████████████| 41/41 [00:00<00:00, 41071.52it/s]\n",
      "Downloading tweets:   0%|                                                                                                                                                              | 0/100000 [00:00<?, ?it/s]"
     ]
    },
    {
     "name": "stdout",
     "output_type": "stream",
     "text": [
      "tweet_marzo_Europe_Stoccolma_200km.csv\n"
     ]
    },
    {
     "name": "stderr",
     "output_type": "stream",
     "text": [
      "Downloading tweets:   0%|                                                                                                                                                   | 46/100000 [00:01<1:07:30, 24.68it/s]\n",
      "Writing tweets    : 100%|██████████████████████████████████████████████████████████████████████████████████████████████████████████████████████████████████████████████████████| 46/46 [00:00<00:00, 46058.24it/s]\n",
      "Downloading tweets:   0%|                                                                                                                                                              | 0/100000 [00:00<?, ?it/s]"
     ]
    },
    {
     "name": "stdout",
     "output_type": "stream",
     "text": [
      "tweet_marzo_AstraZeneca_Amburg_200km.csv\n"
     ]
    },
    {
     "name": "stderr",
     "output_type": "stream",
     "text": [
      "Downloading tweets:   0%|                                                                                                                                                              | 0/100000 [00:00<?, ?it/s]\n",
      "Downloading tweets:   0%|                                                                                                                                                              | 0/100000 [00:00<?, ?it/s]"
     ]
    },
    {
     "name": "stdout",
     "output_type": "stream",
     "text": [
      "nessun tweets trovato con parolaCercata Astra Zeneca\n"
     ]
    },
    {
     "name": "stderr",
     "output_type": "stream",
     "text": [
      "Downloading tweets:   0%|                                                                                                                                                              | 0/100000 [00:00<?, ?it/s]\n",
      "Downloading tweets:   0%|                                                                                                                                                              | 0/100000 [00:00<?, ?it/s]"
     ]
    },
    {
     "name": "stdout",
     "output_type": "stream",
     "text": [
      "nessun tweets trovato con parolaCercata AZ\n"
     ]
    },
    {
     "name": "stderr",
     "output_type": "stream",
     "text": [
      "Downloading tweets:   0%|                                                                                                                                                              | 0/100000 [00:00<?, ?it/s]\n",
      "Downloading tweets:   0%|                                                                                                                                                              | 0/100000 [00:00<?, ?it/s]"
     ]
    },
    {
     "name": "stdout",
     "output_type": "stream",
     "text": [
      "nessun tweets trovato con parolaCercata EU\n"
     ]
    },
    {
     "name": "stderr",
     "output_type": "stream",
     "text": [
      "Downloading tweets:   0%|                                                                                                                                                              | 0/100000 [00:00<?, ?it/s]\n",
      "Downloading tweets:   0%|                                                                                                                                                              | 0/100000 [00:00<?, ?it/s]"
     ]
    },
    {
     "name": "stdout",
     "output_type": "stream",
     "text": [
      "nessun tweets trovato con parolaCercata Europa\n"
     ]
    },
    {
     "name": "stderr",
     "output_type": "stream",
     "text": [
      "Downloading tweets:   0%|                                                                                                                                                              | 0/100000 [00:00<?, ?it/s]\n",
      "Downloading tweets:   0%|                                                                                                                                                              | 0/100000 [00:00<?, ?it/s]"
     ]
    },
    {
     "name": "stdout",
     "output_type": "stream",
     "text": [
      "nessun tweets trovato con parolaCercata Europe\n"
     ]
    },
    {
     "name": "stderr",
     "output_type": "stream",
     "text": [
      "Downloading tweets:   0%|                                                                                                                                                    | 5/100000 [00:01<8:40:48,  3.20it/s]\n",
      "Writing tweets    : 100%|███████████████████████████████████████████████████████████████████████████████████████████████████████████████████████████████████████████████████████████████████| 5/5 [00:00<?, ?it/s]\n",
      "Downloading tweets:   0%|                                                                                                                                                              | 0/100000 [00:00<?, ?it/s]"
     ]
    },
    {
     "name": "stdout",
     "output_type": "stream",
     "text": [
      "tweet_marzo_AstraZeneca_Helsinki_200km.csv\n"
     ]
    },
    {
     "name": "stderr",
     "output_type": "stream",
     "text": [
      "Downloading tweets:   0%|                                                                                                                                                   | 2/100000 [00:01<14:10:05,  1.96it/s]\n",
      "Writing tweets    : 100%|███████████████████████████████████████████████████████████████████████████████████████████████████████████████████████████████████████████████████████████████████| 2/2 [00:00<?, ?it/s]\n",
      "Downloading tweets:   0%|                                                                                                                                                              | 0/100000 [00:00<?, ?it/s]"
     ]
    },
    {
     "name": "stdout",
     "output_type": "stream",
     "text": [
      "tweet_marzo_Astra Zeneca_Helsinki_200km.csv\n"
     ]
    },
    {
     "name": "stderr",
     "output_type": "stream",
     "text": [
      "Downloading tweets:   0%|                                                                                                                                                              | 0/100000 [00:00<?, ?it/s]\n",
      "Downloading tweets:   0%|                                                                                                                                                              | 0/100000 [00:00<?, ?it/s]"
     ]
    },
    {
     "name": "stdout",
     "output_type": "stream",
     "text": [
      "nessun tweets trovato con parolaCercata AZ\n"
     ]
    },
    {
     "name": "stderr",
     "output_type": "stream",
     "text": [
      "Downloading tweets:   0%|                                                                                                                                                   | 10/100000 [00:01<3:14:21,  8.57it/s]\n",
      "Writing tweets    : 100%|█████████████████████████████████████████████████████████████████████████████████████████████████████████████████████████████████████████████████████████████████| 10/10 [00:00<?, ?it/s]\n",
      "Downloading tweets:   0%|                                                                                                                                                              | 0/100000 [00:00<?, ?it/s]"
     ]
    },
    {
     "name": "stdout",
     "output_type": "stream",
     "text": [
      "tweet_marzo_EU_Helsinki_200km.csv\n"
     ]
    },
    {
     "name": "stderr",
     "output_type": "stream",
     "text": [
      "Downloading tweets:   0%|                                                                                                                                                              | 0/100000 [00:00<?, ?it/s]\n",
      "Downloading tweets:   0%|                                                                                                                                                              | 0/100000 [00:00<?, ?it/s]"
     ]
    },
    {
     "name": "stdout",
     "output_type": "stream",
     "text": [
      "nessun tweets trovato con parolaCercata Europa\n"
     ]
    },
    {
     "name": "stderr",
     "output_type": "stream",
     "text": [
      "Downloading tweets:   0%|                                                                                                                                                   | 15/100000 [00:01<2:02:48, 13.57it/s]\n",
      "Writing tweets    : 100%|██████████████████████████████████████████████████████████████████████████████████████████████████████████████████████████████████████████████████████| 15/15 [00:00<00:00, 15065.75it/s]\n",
      "Downloading tweets:   0%|                                                                                                                                                              | 0/100000 [00:00<?, ?it/s]"
     ]
    },
    {
     "name": "stdout",
     "output_type": "stream",
     "text": [
      "tweet_marzo_Europe_Helsinki_200km.csv\n"
     ]
    },
    {
     "name": "stderr",
     "output_type": "stream",
     "text": [
      "Downloading tweets:   0%|▌                                                                                                                                                   | 366/100000 [00:06<29:30, 56.29it/s]\n",
      "Writing tweets    : 100%|████████████████████████████████████████████████████████████████████████████████████████████████████████████████████████████████████████████████████| 366/366 [00:00<00:00, 73408.34it/s]\n",
      "Downloading tweets:   0%|                                                                                                                                                              | 0/100000 [00:00<?, ?it/s]"
     ]
    },
    {
     "name": "stdout",
     "output_type": "stream",
     "text": [
      "tweet_marzo_AstraZeneca_London_200km.csv\n"
     ]
    },
    {
     "name": "stderr",
     "output_type": "stream",
     "text": [
      "Downloading tweets:   0%|▍                                                                                                                                                   | 311/100000 [00:05<27:57, 59.42it/s]\n",
      "Writing tweets    : 100%|████████████████████████████████████████████████████████████████████████████████████████████████████████████████████████████████████████████████████| 311/311 [00:00<00:00, 31187.77it/s]\n",
      "Downloading tweets:   0%|                                                                                                                                                              | 0/100000 [00:00<?, ?it/s]"
     ]
    },
    {
     "name": "stdout",
     "output_type": "stream",
     "text": [
      "tweet_marzo_Astra Zeneca_London_200km.csv\n"
     ]
    },
    {
     "name": "stderr",
     "output_type": "stream",
     "text": [
      "Downloading tweets:   0%|▏                                                                                                                                                   | 120/100000 [00:03<49:10, 33.86it/s]\n",
      "Writing tweets    : 100%|████████████████████████████████████████████████████████████████████████████████████████████████████████████████████████████████████████████████████| 120/120 [00:00<00:00, 40326.61it/s]\n",
      "Downloading tweets:   0%|                                                                                                                                                              | 0/100000 [00:00<?, ?it/s]"
     ]
    },
    {
     "name": "stdout",
     "output_type": "stream",
     "text": [
      "tweet_marzo_AZ_London_200km.csv\n"
     ]
    },
    {
     "name": "stderr",
     "output_type": "stream",
     "text": [
      "Downloading tweets:   1%|█                                                                                                                                                   | 710/100000 [00:10<23:33, 70.22it/s]\n",
      "Writing tweets    : 100%|████████████████████████████████████████████████████████████████████████████████████████████████████████████████████████████████████████████████████| 710/710 [00:00<00:00, 88989.84it/s]\n",
      "Downloading tweets:   0%|                                                                                                                                                              | 0/100000 [00:00<?, ?it/s]"
     ]
    },
    {
     "name": "stdout",
     "output_type": "stream",
     "text": [
      "tweet_marzo_EU_London_200km.csv\n"
     ]
    },
    {
     "name": "stderr",
     "output_type": "stream",
     "text": [
      "Downloading tweets:   0%|                                                                                                                                                     | 77/100000 [00:02<49:43, 33.49it/s]\n",
      "Writing tweets    : 100%|██████████████████████████████████████████████████████████████████████████████████████████████████████████████████████████████████████████████████████| 77/77 [00:00<00:00, 76458.67it/s]\n",
      "Downloading tweets:   0%|                                                                                                                                                              | 0/100000 [00:00<?, ?it/s]"
     ]
    },
    {
     "name": "stdout",
     "output_type": "stream",
     "text": [
      "tweet_marzo_Europa_London_200km.csv\n"
     ]
    },
    {
     "name": "stderr",
     "output_type": "stream",
     "text": [
      "Downloading tweets:   0%|▋                                                                                                                                                   | 453/100000 [00:05<20:33, 80.71it/s]\n",
      "Writing tweets    : 100%|████████████████████████████████████████████████████████████████████████████████████████████████████████████████████████████████████████████████████| 453/453 [00:00<00:00, 50451.93it/s]\n",
      "Downloading tweets:   0%|                                                                                                                                                              | 0/100000 [00:00<?, ?it/s]"
     ]
    },
    {
     "name": "stdout",
     "output_type": "stream",
     "text": [
      "tweet_marzo_Europe_London_200km.csv\n"
     ]
    },
    {
     "name": "stderr",
     "output_type": "stream",
     "text": [
      "Downloading tweets:   0%|                                                                                                                                                   | 72/100000 [00:02<1:01:11, 27.22it/s]\n",
      "Writing tweets    : 100%|██████████████████████████████████████████████████████████████████████████████████████████████████████████████████████████████████████████████████████| 72/72 [00:00<00:00, 72056.76it/s]\n",
      "Downloading tweets:   0%|                                                                                                                                                              | 0/100000 [00:00<?, ?it/s]"
     ]
    },
    {
     "name": "stdout",
     "output_type": "stream",
     "text": [
      "tweet_marzo_AstraZeneca_Edimburg_200km.csv\n"
     ]
    },
    {
     "name": "stderr",
     "output_type": "stream",
     "text": [
      "Downloading tweets:   0%|                                                                                                                                                   | 28/100000 [00:01<1:19:31, 20.95it/s]\n",
      "Writing tweets    : 100%|█████████████████████████████████████████████████████████████████████████████████████████████████████████████████████████████████████████████████████████████████| 28/28 [00:00<?, ?it/s]\n",
      "Downloading tweets:   0%|                                                                                                                                                              | 0/100000 [00:00<?, ?it/s]"
     ]
    },
    {
     "name": "stdout",
     "output_type": "stream",
     "text": [
      "tweet_marzo_Astra Zeneca_Edimburg_200km.csv\n"
     ]
    },
    {
     "name": "stderr",
     "output_type": "stream",
     "text": [
      "Downloading tweets:   0%|                                                                                                                                                    | 5/100000 [00:01<8:01:26,  3.46it/s]\n",
      "Writing tweets    : 100%|███████████████████████████████████████████████████████████████████████████████████████████████████████████████████████████████████████████████████████████████████| 5/5 [00:00<?, ?it/s]\n",
      "Downloading tweets:   0%|                                                                                                                                                              | 0/100000 [00:00<?, ?it/s]"
     ]
    },
    {
     "name": "stdout",
     "output_type": "stream",
     "text": [
      "tweet_marzo_AZ_Edimburg_200km.csv\n"
     ]
    },
    {
     "name": "stderr",
     "output_type": "stream",
     "text": [
      "Downloading tweets:   0%|▏                                                                                                                                                   | 103/100000 [00:02<39:38, 42.00it/s]\n",
      "Writing tweets    : 100%|████████████████████████████████████████████████████████████████████████████████████████████████████████████████████████████████████████████████████| 103/103 [00:00<00:00, 51645.35it/s]\n",
      "Downloading tweets:   0%|                                                                                                                                                              | 0/100000 [00:00<?, ?it/s]"
     ]
    },
    {
     "name": "stdout",
     "output_type": "stream",
     "text": [
      "tweet_marzo_EU_Edimburg_200km.csv\n"
     ]
    },
    {
     "name": "stderr",
     "output_type": "stream",
     "text": [
      "Downloading tweets:   0%|                                                                                                                                                   | 2/100000 [00:02<28:08:51,  1.01s/it]\n",
      "Writing tweets    : 100%|█████████████████████████████████████████████████████████████████████████████████████████████████████████████████████████████████████████████████████████| 2/2 [00:00<00:00, 2003.97it/s]\n",
      "Downloading tweets:   0%|                                                                                                                                                              | 0/100000 [00:00<?, ?it/s]"
     ]
    },
    {
     "name": "stdout",
     "output_type": "stream",
     "text": [
      "tweet_marzo_Europa_Edimburg_200km.csv\n"
     ]
    },
    {
     "name": "stderr",
     "output_type": "stream",
     "text": [
      "Downloading tweets:   0%|                                                                                                                                                     | 51/100000 [00:01<49:21, 33.75it/s]\n",
      "Writing tweets    : 100%|██████████████████████████████████████████████████████████████████████████████████████████████████████████████████████████████████████████████████████| 51/51 [00:00<00:00, 51831.72it/s]\n",
      "Downloading tweets:   0%|                                                                                                                                                              | 0/100000 [00:00<?, ?it/s]"
     ]
    },
    {
     "name": "stdout",
     "output_type": "stream",
     "text": [
      "tweet_marzo_Europe_Edimburg_200km.csv\n"
     ]
    },
    {
     "name": "stderr",
     "output_type": "stream",
     "text": [
      "Downloading tweets:   0%|▏                                                                                                                                                   | 139/100000 [00:02<35:06, 47.40it/s]\n",
      "Writing tweets    : 100%|████████████████████████████████████████████████████████████████████████████████████████████████████████████████████████████████████████████████████| 139/139 [00:00<00:00, 69646.19it/s]\n",
      "Downloading tweets:   0%|                                                                                                                                                              | 0/100000 [00:00<?, ?it/s]"
     ]
    },
    {
     "name": "stdout",
     "output_type": "stream",
     "text": [
      "tweet_marzo_AstraZeneca_Manchester_200km.csv\n"
     ]
    },
    {
     "name": "stderr",
     "output_type": "stream",
     "text": [
      "Downloading tweets:   0%|                                                                                                                                                     | 51/100000 [00:01<50:51, 32.75it/s]\n",
      "Writing tweets    : 100%|██████████████████████████████████████████████████████████████████████████████████████████████████████████████████████████████████████████████████████| 51/51 [00:00<00:00, 51211.28it/s]\n",
      "Downloading tweets:   0%|                                                                                                                                                              | 0/100000 [00:00<?, ?it/s]"
     ]
    },
    {
     "name": "stdout",
     "output_type": "stream",
     "text": [
      "tweet_marzo_Astra Zeneca_Manchester_200km.csv\n"
     ]
    },
    {
     "name": "stderr",
     "output_type": "stream",
     "text": [
      "Downloading tweets:   0%|                                                                                                                                                   | 18/100000 [00:01<1:54:15, 14.58it/s]\n",
      "Writing tweets    : 100%|█████████████████████████████████████████████████████████████████████████████████████████████████████████████████████████████████████████████████████████████████| 18/18 [00:00<?, ?it/s]\n",
      "Downloading tweets:   0%|                                                                                                                                                              | 0/100000 [00:00<?, ?it/s]"
     ]
    },
    {
     "name": "stdout",
     "output_type": "stream",
     "text": [
      "tweet_marzo_AZ_Manchester_200km.csv\n"
     ]
    },
    {
     "name": "stderr",
     "output_type": "stream",
     "text": [
      "Downloading tweets:   0%|▏                                                                                                                                                   | 114/100000 [00:02<38:11, 43.59it/s]\n",
      "Writing tweets    : 100%|████████████████████████████████████████████████████████████████████████████████████████████████████████████████████████████████████████████████████| 114/114 [00:00<00:00, 38093.58it/s]\n",
      "Downloading tweets:   0%|                                                                                                                                                              | 0/100000 [00:00<?, ?it/s]"
     ]
    },
    {
     "name": "stdout",
     "output_type": "stream",
     "text": [
      "tweet_marzo_EU_Manchester_200km.csv\n"
     ]
    },
    {
     "name": "stderr",
     "output_type": "stream",
     "text": [
      "Downloading tweets:   0%|                                                                                                                                                   | 30/100000 [00:01<1:24:13, 19.78it/s]\n",
      "Writing tweets    : 100%|█████████████████████████████████████████████████████████████████████████████████████████████████████████████████████████████████████████████████████████████████| 30/30 [00:00<?, ?it/s]\n",
      "Downloading tweets:   0%|                                                                                                                                                              | 0/100000 [00:00<?, ?it/s]"
     ]
    },
    {
     "name": "stdout",
     "output_type": "stream",
     "text": [
      "tweet_marzo_Europa_Manchester_200km.csv\n"
     ]
    },
    {
     "name": "stderr",
     "output_type": "stream",
     "text": [
      "Downloading tweets:   0%|                                                                                                                                                     | 65/100000 [00:01<50:15, 33.14it/s]\n",
      "Writing tweets    : 100%|██████████████████████████████████████████████████████████████████████████████████████████████████████████████████████████████████████████████████████| 65/65 [00:00<00:00, 32525.62it/s]"
     ]
    },
    {
     "name": "stdout",
     "output_type": "stream",
     "text": [
      "tweet_marzo_Europe_Manchester_200km.csv\n"
     ]
    },
    {
     "name": "stderr",
     "output_type": "stream",
     "text": [
      "\n"
     ]
    },
    {
     "data": {
      "text/plain": [
       "3.6777155833333333"
      ]
     },
     "execution_count": 124,
     "metadata": {},
     "output_type": "execute_result"
    }
   ],
   "source": [
    "start = datetime.today()\n",
    "\n",
    "## EU-Ovest\n",
    "citta = \"Lisbona\"\n",
    "raggio=\"100km\"\n",
    "location ='EU-Ovest'\n",
    "area ='EU'\n",
    "\n",
    "parolaCercata=\"AstraZeneca\"\n",
    "df = extractDataAndSaveInCsv(citta,parolaCercata,raggio,location,area)\n",
    "\n",
    "parolaCercata=\"Astra Zeneca\"\n",
    "df = extractDataAndSaveInCsv(citta,parolaCercata,raggio,location,area)\n",
    "\n",
    "parolaCercata=\"AZ\"\n",
    "df = extractDataAndSaveInCsv(citta,parolaCercata,raggio,location,area)\n",
    "\n",
    "parolaCercata=\"EU\"\n",
    "df = extractDataAndSaveInCsv(citta,parolaCercata,raggio,location,area)\n",
    "\n",
    "parolaCercata=\"Europa\"\n",
    "df = extractDataAndSaveInCsv(citta,parolaCercata,raggio,location,area)\n",
    "\n",
    "parolaCercata=\"Europe\"\n",
    "df = extractDataAndSaveInCsv(citta,parolaCercata,raggio,location,area)\n",
    "\n",
    "## EU-Ovest\n",
    "citta = \"Madrid\"\n",
    "raggio=\"300km\"\n",
    "location ='EU-Ovest'\n",
    "area ='EU'\n",
    "\n",
    "parolaCercata=\"AstraZeneca\"\n",
    "df = extractDataAndSaveInCsv(citta,parolaCercata,raggio,location,area)\n",
    "\n",
    "parolaCercata=\"Astra Zeneca\"\n",
    "df = extractDataAndSaveInCsv(citta,parolaCercata,raggio,location,area)\n",
    "\n",
    "parolaCercata=\"AZ\"\n",
    "df = extractDataAndSaveInCsv(citta,parolaCercata,raggio,location,area)\n",
    "\n",
    "parolaCercata=\"EU\"\n",
    "df = extractDataAndSaveInCsv(citta,parolaCercata,raggio,location,area)\n",
    "\n",
    "parolaCercata=\"Europa\"\n",
    "df = extractDataAndSaveInCsv(citta,parolaCercata,raggio,location,area)\n",
    "\n",
    "parolaCercata=\"Europe\"\n",
    "df = extractDataAndSaveInCsv(citta,parolaCercata,raggio,location,area)\n",
    "\n",
    "################## EU-central\n",
    "location ='EU-CENTRAL'\n",
    "area ='EU'\n",
    "\n",
    "citta = \"Roma\"\n",
    "raggio=\"400km\"\n",
    "\n",
    "parolaCercata=\"AstraZeneca\"\n",
    "df = extractDataAndSaveInCsv(citta,parolaCercata,raggio,location,area)\n",
    "\n",
    "parolaCercata=\"Astra Zeneca\"\n",
    "df = extractDataAndSaveInCsv(citta,parolaCercata,raggio,location,area)\n",
    "\n",
    "parolaCercata=\"AZ\"\n",
    "df = extractDataAndSaveInCsv(citta,parolaCercata,raggio,location,area)\n",
    "\n",
    "parolaCercata=\"EU\"\n",
    "df = extractDataAndSaveInCsv(citta,parolaCercata,raggio,location,area)\n",
    "\n",
    "parolaCercata=\"Europa\"\n",
    "df = extractDataAndSaveInCsv(citta,parolaCercata,raggio,location,area)\n",
    "\n",
    "parolaCercata=\"Europe\"\n",
    "df = extractDataAndSaveInCsv(citta,parolaCercata,raggio,location,area)\n",
    "\n",
    "citta = \"frankfurt\"\n",
    "raggio=\"300km\"\n",
    "\n",
    "parolaCercata=\"AstraZeneca\"\n",
    "df = extractDataAndSaveInCsv(citta,parolaCercata,raggio,location,area)\n",
    "\n",
    "parolaCercata=\"Astra Zeneca\"\n",
    "df = extractDataAndSaveInCsv(citta,parolaCercata,raggio,location,area)\n",
    "\n",
    "parolaCercata=\"AZ\"\n",
    "df = extractDataAndSaveInCsv(citta,parolaCercata,raggio,location,area)\n",
    "\n",
    "parolaCercata=\"EU\"\n",
    "df = extractDataAndSaveInCsv(citta,parolaCercata,raggio,location,area)\n",
    "\n",
    "parolaCercata=\"Europa\"\n",
    "df = extractDataAndSaveInCsv(citta,parolaCercata,raggio,location,area)\n",
    "\n",
    "parolaCercata=\"Europe\"\n",
    "df = extractDataAndSaveInCsv(citta,parolaCercata,raggio,location,area)\n",
    "\n",
    "citta = \"Praga\"\n",
    "raggio=\"100km\"\n",
    "\n",
    "parolaCercata=\"AstraZeneca\"\n",
    "df = extractDataAndSaveInCsv(citta,parolaCercata,raggio,location,area)\n",
    "\n",
    "parolaCercata=\"Astra Zeneca\"\n",
    "df = extractDataAndSaveInCsv(citta,parolaCercata,raggio,location,area)\n",
    "\n",
    "parolaCercata=\"AZ\"\n",
    "df = extractDataAndSaveInCsv(citta,parolaCercata,raggio,location,area)\n",
    "\n",
    "parolaCercata=\"EU\"\n",
    "df = extractDataAndSaveInCsv(citta,parolaCercata,raggio,location,area)\n",
    "\n",
    "parolaCercata=\"Europa\"\n",
    "df = extractDataAndSaveInCsv(citta,parolaCercata,raggio,location,area)\n",
    "\n",
    "parolaCercata=\"Europe\"\n",
    "df = extractDataAndSaveInCsv(citta,parolaCercata,raggio,location,area)\n",
    "\n",
    "\n",
    "################# EU-est\n",
    "location ='EU-est'\n",
    "area ='EU'\n",
    "\n",
    "citta = \"varsavia\"\n",
    "raggio=\"300km\"\n",
    "\n",
    "parolaCercata=\"AstraZeneca\"\n",
    "df = extractDataAndSaveInCsv(citta,parolaCercata,raggio,location,area)\n",
    "\n",
    "parolaCercata=\"Astra Zeneca\"\n",
    "df = extractDataAndSaveInCsv(citta,parolaCercata,raggio,location,area)\n",
    "\n",
    "parolaCercata=\"AZ\"\n",
    "df = extractDataAndSaveInCsv(citta,parolaCercata,raggio,location,area)\n",
    "\n",
    "parolaCercata=\"EU\"\n",
    "df = extractDataAndSaveInCsv(citta,parolaCercata,raggio,location,area)\n",
    "\n",
    "parolaCercata=\"Europa\"\n",
    "df = extractDataAndSaveInCsv(citta,parolaCercata,raggio,location,area)\n",
    "\n",
    "parolaCercata=\"Europe\"\n",
    "df = extractDataAndSaveInCsv(citta,parolaCercata,raggio,location,area)\n",
    "\n",
    "\n",
    "## EU-est\n",
    "citta = \"Bucarest\"\n",
    "raggio=\"700km\"\n",
    "\n",
    "parolaCercata=\"AstraZeneca\"\n",
    "df = extractDataAndSaveInCsv(citta,parolaCercata,raggio,location,area)\n",
    "\n",
    "parolaCercata=\"Astra Zeneca\"\n",
    "df = extractDataAndSaveInCsv(citta,parolaCercata,raggio,location,area)\n",
    "\n",
    "parolaCercata=\"AZ\"\n",
    "df = extractDataAndSaveInCsv(citta,parolaCercata,raggio,location,area)\n",
    "\n",
    "parolaCercata=\"EU\"\n",
    "df = extractDataAndSaveInCsv(citta,parolaCercata,raggio,location,area)\n",
    "\n",
    "parolaCercata=\"Europa\"\n",
    "df = extractDataAndSaveInCsv(citta,parolaCercata,raggio,location,area)\n",
    "\n",
    "parolaCercata=\"Europe\"\n",
    "df = extractDataAndSaveInCsv(citta,parolaCercata,raggio,location,area)\n",
    "\n",
    "############### EU-Nord\n",
    "location ='EU-Nord'\n",
    "area ='EU'\n",
    "\n",
    "\n",
    "citta = \"Oslo\"\n",
    "raggio=\"200km\"\n",
    "\n",
    "parolaCercata=\"AstraZeneca\"\n",
    "df = extractDataAndSaveInCsv(citta,parolaCercata,raggio,location,area)\n",
    "\n",
    "parolaCercata=\"Astra Zeneca\"\n",
    "df = extractDataAndSaveInCsv(citta,parolaCercata,raggio,location,area)\n",
    "\n",
    "parolaCercata=\"AZ\"\n",
    "df = extractDataAndSaveInCsv(citta,parolaCercata,raggio,location,area)\n",
    "\n",
    "parolaCercata=\"EU\"\n",
    "df = extractDataAndSaveInCsv(citta,parolaCercata,raggio,location,area)\n",
    "\n",
    "parolaCercata=\"Europa\"\n",
    "df = extractDataAndSaveInCsv(citta,parolaCercata,raggio,location,area)\n",
    "\n",
    "parolaCercata=\"Europe\"\n",
    "df = extractDataAndSaveInCsv(citta,parolaCercata,raggio,location,area)\n",
    "\n",
    "#################\n",
    "citta = \"Stoccolma\"\n",
    "raggio=\"200km\"\n",
    "\n",
    "parolaCercata=\"AstraZeneca\"\n",
    "df = extractDataAndSaveInCsv(citta,parolaCercata,raggio,location,area)\n",
    "\n",
    "parolaCercata=\"Astra Zeneca\"\n",
    "df = extractDataAndSaveInCsv(citta,parolaCercata,raggio,location,area)\n",
    "\n",
    "parolaCercata=\"AZ\"\n",
    "df = extractDataAndSaveInCsv(citta,parolaCercata,raggio,location,area)\n",
    "\n",
    "parolaCercata=\"EU\"\n",
    "df = extractDataAndSaveInCsv(citta,parolaCercata,raggio,location,area)\n",
    "\n",
    "parolaCercata=\"Europa\"\n",
    "df = extractDataAndSaveInCsv(citta,parolaCercata,raggio,location,area)\n",
    "\n",
    "parolaCercata=\"Europe\"\n",
    "df = extractDataAndSaveInCsv(citta,parolaCercata,raggio,location,area)\n",
    "\n",
    "\n",
    "##################\n",
    "citta = \"Amburg\"\n",
    "raggio=\"200km\"\n",
    "\n",
    "parolaCercata=\"AstraZeneca\"\n",
    "df = extractDataAndSaveInCsv(citta,parolaCercata,raggio,location,area)\n",
    "\n",
    "parolaCercata=\"Astra Zeneca\"\n",
    "df = extractDataAndSaveInCsv(citta,parolaCercata,raggio,location,area)\n",
    "\n",
    "parolaCercata=\"AZ\"\n",
    "df = extractDataAndSaveInCsv(citta,parolaCercata,raggio,location,area)\n",
    "\n",
    "parolaCercata=\"EU\"\n",
    "df = extractDataAndSaveInCsv(citta,parolaCercata,raggio,location,area)\n",
    "\n",
    "parolaCercata=\"Europa\"\n",
    "df = extractDataAndSaveInCsv(citta,parolaCercata,raggio,location,area)\n",
    "\n",
    "parolaCercata=\"Europe\"\n",
    "df = extractDataAndSaveInCsv(citta,parolaCercata,raggio,location,area)\n",
    "##################\n",
    "citta = \"Helsinki\"\n",
    "raggio=\"200km\"\n",
    "\n",
    "parolaCercata=\"AstraZeneca\"\n",
    "df = extractDataAndSaveInCsv(citta,parolaCercata,raggio,location,area)\n",
    "\n",
    "parolaCercata=\"Astra Zeneca\"\n",
    "df = extractDataAndSaveInCsv(citta,parolaCercata,raggio,location,area)\n",
    "\n",
    "parolaCercata=\"AZ\"\n",
    "df = extractDataAndSaveInCsv(citta,parolaCercata,raggio,location,area)\n",
    "\n",
    "parolaCercata=\"EU\"\n",
    "df = extractDataAndSaveInCsv(citta,parolaCercata,raggio,location,area)\n",
    "\n",
    "parolaCercata=\"Europa\"\n",
    "df = extractDataAndSaveInCsv(citta,parolaCercata,raggio,location,area)\n",
    "\n",
    "parolaCercata=\"Europe\"\n",
    "df = extractDataAndSaveInCsv(citta,parolaCercata,raggio,location,area)\n",
    "\n",
    "\n",
    "\n",
    "##### Londra\n",
    "location ='GB-SUD'\n",
    "area ='GB'\n",
    "citta = \"London\"\n",
    "raggio=\"200km\"\n",
    "\n",
    "parolaCercata=\"AstraZeneca\"\n",
    "df = extractDataAndSaveInCsv(citta,parolaCercata,raggio,location,area)\n",
    "\n",
    "parolaCercata=\"Astra Zeneca\"\n",
    "df = extractDataAndSaveInCsv(citta,parolaCercata,raggio,location,area)\n",
    "\n",
    "parolaCercata=\"AZ\"\n",
    "df = extractDataAndSaveInCsv(citta,parolaCercata,raggio,location,area)\n",
    "\n",
    "parolaCercata=\"EU\"\n",
    "df = extractDataAndSaveInCsv(citta,parolaCercata,raggio,location,area)\n",
    "\n",
    "parolaCercata=\"Europa\"\n",
    "df = extractDataAndSaveInCsv(citta,parolaCercata,raggio,location,area)\n",
    "\n",
    "parolaCercata=\"Europe\"\n",
    "df = extractDataAndSaveInCsv(citta,parolaCercata,raggio,location,area)\n",
    "\n",
    "\n",
    "##### Londra\n",
    "location ='GB-Nord'\n",
    "area ='GB'\n",
    "citta = \"Edimburg\"\n",
    "raggio=\"200km\"\n",
    "\n",
    "parolaCercata=\"AstraZeneca\"\n",
    "df = extractDataAndSaveInCsv(citta,parolaCercata,raggio,location,area)\n",
    "\n",
    "parolaCercata=\"Astra Zeneca\"\n",
    "df = extractDataAndSaveInCsv(citta,parolaCercata,raggio,location,area)\n",
    "\n",
    "parolaCercata=\"AZ\"\n",
    "df = extractDataAndSaveInCsv(citta,parolaCercata,raggio,location,area)\n",
    "\n",
    "parolaCercata=\"EU\"\n",
    "df = extractDataAndSaveInCsv(citta,parolaCercata,raggio,location,area)\n",
    "\n",
    "parolaCercata=\"Europa\"\n",
    "df = extractDataAndSaveInCsv(citta,parolaCercata,raggio,location,area)\n",
    "\n",
    "parolaCercata=\"Europe\"\n",
    "df = extractDataAndSaveInCsv(citta,parolaCercata,raggio,location,area)\n",
    "\n",
    "\n",
    "##### Londra\n",
    "location ='GB-Center'\n",
    "area ='GB'\n",
    "citta = \"Manchester\"\n",
    "raggio=\"200km\"\n",
    "\n",
    "parolaCercata=\"AstraZeneca\"\n",
    "df = extractDataAndSaveInCsv(citta,parolaCercata,raggio,location,area)\n",
    "\n",
    "parolaCercata=\"Astra Zeneca\"\n",
    "df = extractDataAndSaveInCsv(citta,parolaCercata,raggio,location,area)\n",
    "\n",
    "parolaCercata=\"AZ\"\n",
    "df = extractDataAndSaveInCsv(citta,parolaCercata,raggio,location,area)\n",
    "\n",
    "parolaCercata=\"EU\"\n",
    "df = extractDataAndSaveInCsv(citta,parolaCercata,raggio,location,area)\n",
    "\n",
    "parolaCercata=\"Europa\"\n",
    "df = extractDataAndSaveInCsv(citta,parolaCercata,raggio,location,area)\n",
    "\n",
    "parolaCercata=\"Europe\"\n",
    "df = extractDataAndSaveInCsv(citta,parolaCercata,raggio,location,area)\n",
    "\n",
    "finish = datetime.today()\n",
    "deltaTime = finish-start\n",
    "minuti = deltaTime.total_seconds()/60\n",
    "minuti"
   ]
  },
  {
   "cell_type": "code",
   "execution_count": 128,
   "metadata": {},
   "outputs": [
    {
     "data": {
      "text/plain": [
       "['tweet_marzo_Astra Zeneca_Bucarest_700km.csv',\n",
       " 'tweet_marzo_Astra Zeneca_Edimburg_200km.csv',\n",
       " 'tweet_marzo_Astra Zeneca_frankfurt_300km.csv',\n",
       " 'tweet_marzo_Astra Zeneca_Helsinki_200km.csv',\n",
       " 'tweet_marzo_Astra Zeneca_Lisbona_100km.csv',\n",
       " 'tweet_marzo_Astra Zeneca_London_200km.csv',\n",
       " 'tweet_marzo_Astra Zeneca_Madrid_300km.csv',\n",
       " 'tweet_marzo_Astra Zeneca_Manchester_200km.csv',\n",
       " 'tweet_marzo_Astra Zeneca_Oslo_200km.csv',\n",
       " 'tweet_marzo_Astra Zeneca_Praga_100km.csv',\n",
       " 'tweet_marzo_Astra Zeneca_Roma_400km.csv',\n",
       " 'tweet_marzo_Astra Zeneca_Stoccolma_200km.csv',\n",
       " 'tweet_marzo_Astra Zeneca_varsavia_300km.csv',\n",
       " 'tweet_marzo_AstraZeneca_Amburg_200km.csv',\n",
       " 'tweet_marzo_AstraZeneca_Bucarest_700km.csv',\n",
       " 'tweet_marzo_AstraZeneca_Edimburg_200km.csv',\n",
       " 'tweet_marzo_AstraZeneca_frankfurt_300km.csv',\n",
       " 'tweet_marzo_AstraZeneca_Helsinki_200km.csv',\n",
       " 'tweet_marzo_AstraZeneca_Lisbona_100km.csv',\n",
       " 'tweet_marzo_AstraZeneca_London_200km.csv',\n",
       " 'tweet_marzo_AstraZeneca_Madrid_300km.csv',\n",
       " 'tweet_marzo_AstraZeneca_Manchester_200km.csv',\n",
       " 'tweet_marzo_AstraZeneca_Oslo_200km.csv',\n",
       " 'tweet_marzo_AstraZeneca_Praga_100km.csv',\n",
       " 'tweet_marzo_AstraZeneca_Roma_400km.csv',\n",
       " 'tweet_marzo_AstraZeneca_Stoccolma_200km.csv',\n",
       " 'tweet_marzo_AstraZeneca_varsavia_300km.csv',\n",
       " 'tweet_marzo_AZ_frankfurt_300km.csv',\n",
       " 'tweet_marzo_AZ_Lisbona_100km.csv',\n",
       " 'tweet_marzo_AZ_London_200km.csv',\n",
       " 'tweet_marzo_AZ_Madrid_300km.csv',\n",
       " 'tweet_marzo_AZ_Manchester_200km.csv',\n",
       " 'tweet_marzo_AZ_Oslo_200km.csv',\n",
       " 'tweet_marzo_AZ_Stoccolma_200km.csv',\n",
       " 'tweet_marzo_AZ_varsavia_300km.csv',\n",
       " 'tweet_marzo_Europa_Edimburg_200km.csv',\n",
       " 'tweet_marzo_Europa_frankfurt_300km.csv',\n",
       " 'tweet_marzo_Europa_Lisbona_100km.csv',\n",
       " 'tweet_marzo_Europa_London_200km.csv',\n",
       " 'tweet_marzo_Europa_Madrid_300km.csv',\n",
       " 'tweet_marzo_Europa_Manchester_200km.csv',\n",
       " 'tweet_marzo_Europa_Oslo_200km.csv',\n",
       " 'tweet_marzo_Europa_Praga_100km.csv',\n",
       " 'tweet_marzo_Europa_Roma_400km.csv',\n",
       " 'tweet_marzo_Europe_Bucarest_700km.csv',\n",
       " 'tweet_marzo_Europe_Edimburg_200km.csv',\n",
       " 'tweet_marzo_Europe_frankfurt_300km.csv',\n",
       " 'tweet_marzo_Europe_Helsinki_200km.csv',\n",
       " 'tweet_marzo_Europe_Lisbona_100km.csv',\n",
       " 'tweet_marzo_Europe_London_200km.csv',\n",
       " 'tweet_marzo_Europe_Madrid_300km.csv',\n",
       " 'tweet_marzo_Europe_Manchester_200km.csv',\n",
       " 'tweet_marzo_Europe_Oslo_200km.csv',\n",
       " 'tweet_marzo_Europe_Praga_100km.csv',\n",
       " 'tweet_marzo_Europe_Roma_400km.csv',\n",
       " 'tweet_marzo_Europe_Stoccolma_200km.csv',\n",
       " 'tweet_marzo_Europe_varsavia_300km.csv',\n",
       " 'tweet_marzo_EU_Bucarest_700km.csv',\n",
       " 'tweet_marzo_EU_Edimburg_200km.csv',\n",
       " 'tweet_marzo_EU_frankfurt_300km.csv',\n",
       " 'tweet_marzo_EU_Helsinki_200km.csv',\n",
       " 'tweet_marzo_EU_Lisbona_100km.csv',\n",
       " 'tweet_marzo_EU_London_200km.csv',\n",
       " 'tweet_marzo_EU_Madrid_300km.csv',\n",
       " 'tweet_marzo_EU_Manchester_200km.csv',\n",
       " 'tweet_marzo_EU_Oslo_200km.csv',\n",
       " 'tweet_marzo_EU_Praga_100km.csv',\n",
       " 'tweet_marzo_EU_Roma_400km.csv',\n",
       " 'tweet_marzo_EU_Stoccolma_200km.csv',\n",
       " 'tweet_marzo_EU_varsavia_300km.csv']"
      ]
     },
     "execution_count": 128,
     "metadata": {},
     "output_type": "execute_result"
    }
   ],
   "source": [
    "os.chdir(r'C:\\Users\\tranchinake\\Desktop\\DataScienceUniversity\\LabBusinessAnalytic\\Psicology\\DS_LAB_PSYCOLOGY_2021')\n",
    "os.chdir(\"./dataset/dataset_europa_inghilterra_10042021/\")\n",
    "extension = 'csv' \n",
    "all_filenames = [i for i in glob.glob('*.{}'.format(extension))]\n",
    "all_filenames"
   ]
  },
  {
   "cell_type": "code",
   "execution_count": 129,
   "metadata": {},
   "outputs": [
    {
     "data": {
      "text/html": [
       "<div>\n",
       "<style scoped>\n",
       "    .dataframe tbody tr th:only-of-type {\n",
       "        vertical-align: middle;\n",
       "    }\n",
       "\n",
       "    .dataframe tbody tr th {\n",
       "        vertical-align: top;\n",
       "    }\n",
       "\n",
       "    .dataframe thead th {\n",
       "        text-align: right;\n",
       "    }\n",
       "</style>\n",
       "<table border=\"1\" class=\"dataframe\">\n",
       "  <thead>\n",
       "    <tr style=\"text-align: right;\">\n",
       "      <th></th>\n",
       "      <th>id</th>\n",
       "      <th>permalink</th>\n",
       "      <th>username</th>\n",
       "      <th>text</th>\n",
       "      <th>date</th>\n",
       "      <th>parola_cercata</th>\n",
       "      <th>location</th>\n",
       "      <th>area</th>\n",
       "      <th>citta</th>\n",
       "      <th>raggio</th>\n",
       "    </tr>\n",
       "  </thead>\n",
       "  <tbody>\n",
       "    <tr>\n",
       "      <th>0</th>\n",
       "      <td>1375026968136192000</td>\n",
       "      <td>https://twitter.com/IvetYord/status/1375026968...</td>\n",
       "      <td>IvetYord</td>\n",
       "      <td>Immunized part 1! Bulgaria's online registry f...</td>\n",
       "      <td>2021-03-25</td>\n",
       "      <td>AstraZeneca</td>\n",
       "      <td>EU-est</td>\n",
       "      <td>EU</td>\n",
       "      <td>Bucarest</td>\n",
       "      <td>700km</td>\n",
       "    </tr>\n",
       "    <tr>\n",
       "      <th>0</th>\n",
       "      <td>1376105970594689024</td>\n",
       "      <td>https://twitter.com/HesterMcQueen/status/13761...</td>\n",
       "      <td>HesterMcQueen</td>\n",
       "      <td>Safe, stable, sold at cost: AstraZeneca’s vacc...</td>\n",
       "      <td>2021-03-28</td>\n",
       "      <td>AstraZeneca</td>\n",
       "      <td>GB-Nord</td>\n",
       "      <td>GB</td>\n",
       "      <td>Edimburg</td>\n",
       "      <td>200km</td>\n",
       "    </tr>\n",
       "    <tr>\n",
       "      <th>1</th>\n",
       "      <td>1375861727053680644</td>\n",
       "      <td>https://twitter.com/janewilson_1812/status/137...</td>\n",
       "      <td>janewilson_1812</td>\n",
       "      <td>Feck knows what’s in that AstraZeneca... but I...</td>\n",
       "      <td>2021-03-27</td>\n",
       "      <td>AstraZeneca</td>\n",
       "      <td>GB-Nord</td>\n",
       "      <td>GB</td>\n",
       "      <td>Edimburg</td>\n",
       "      <td>200km</td>\n",
       "    </tr>\n",
       "    <tr>\n",
       "      <th>2</th>\n",
       "      <td>1375373400932253699</td>\n",
       "      <td>https://twitter.com/HesterMcQueen/status/13753...</td>\n",
       "      <td>HesterMcQueen</td>\n",
       "      <td>What ARE they playing at? AstraZeneca row blow...</td>\n",
       "      <td>2021-03-26</td>\n",
       "      <td>AstraZeneca</td>\n",
       "      <td>GB-Nord</td>\n",
       "      <td>GB</td>\n",
       "      <td>Edimburg</td>\n",
       "      <td>200km</td>\n",
       "    </tr>\n",
       "    <tr>\n",
       "      <th>3</th>\n",
       "      <td>1375028252343947264</td>\n",
       "      <td>https://twitter.com/HesterMcQueen/status/13750...</td>\n",
       "      <td>HesterMcQueen</td>\n",
       "      <td>Never again! AstraZeneca to scrap jabs at cost...</td>\n",
       "      <td>2021-03-25</td>\n",
       "      <td>AstraZeneca</td>\n",
       "      <td>GB-Nord</td>\n",
       "      <td>GB</td>\n",
       "      <td>Edimburg</td>\n",
       "      <td>200km</td>\n",
       "    </tr>\n",
       "    <tr>\n",
       "      <th>...</th>\n",
       "      <td>...</td>\n",
       "      <td>...</td>\n",
       "      <td>...</td>\n",
       "      <td>...</td>\n",
       "      <td>...</td>\n",
       "      <td>...</td>\n",
       "      <td>...</td>\n",
       "      <td>...</td>\n",
       "      <td>...</td>\n",
       "      <td>...</td>\n",
       "    </tr>\n",
       "    <tr>\n",
       "      <th>16</th>\n",
       "      <td>1369346107692757004</td>\n",
       "      <td>https://twitter.com/kachno85/status/1369346107...</td>\n",
       "      <td>kachno85</td>\n",
       "      <td>I support @Europarl_EN resolution to declare t...</td>\n",
       "      <td>2021-03-09</td>\n",
       "      <td>EU</td>\n",
       "      <td>EU-est</td>\n",
       "      <td>EU</td>\n",
       "      <td>varsavia</td>\n",
       "      <td>300km</td>\n",
       "    </tr>\n",
       "    <tr>\n",
       "      <th>17</th>\n",
       "      <td>1368521496243675139</td>\n",
       "      <td>https://twitter.com/jary76/status/136852149624...</td>\n",
       "      <td>jary76</td>\n",
       "      <td>View on the #varsotower, the highest building ...</td>\n",
       "      <td>2021-03-07</td>\n",
       "      <td>EU</td>\n",
       "      <td>EU-est</td>\n",
       "      <td>EU</td>\n",
       "      <td>varsavia</td>\n",
       "      <td>300km</td>\n",
       "    </tr>\n",
       "    <tr>\n",
       "      <th>18</th>\n",
       "      <td>1368299653121314818</td>\n",
       "      <td>https://twitter.com/PolonyaM/status/1368299653...</td>\n",
       "      <td>PolonyaM</td>\n",
       "      <td>#Fight4WomenTurkey #DictatorErdogan injustice ...</td>\n",
       "      <td>2021-03-06</td>\n",
       "      <td>EU</td>\n",
       "      <td>EU-est</td>\n",
       "      <td>EU</td>\n",
       "      <td>varsavia</td>\n",
       "      <td>300km</td>\n",
       "    </tr>\n",
       "    <tr>\n",
       "      <th>19</th>\n",
       "      <td>1366776472787165190</td>\n",
       "      <td>https://twitter.com/M_Baranowski/status/136677...</td>\n",
       "      <td>M_Baranowski</td>\n",
       "      <td>New U.S. sanctions against Russia - coordinate...</td>\n",
       "      <td>2021-03-02</td>\n",
       "      <td>EU</td>\n",
       "      <td>EU-est</td>\n",
       "      <td>EU</td>\n",
       "      <td>varsavia</td>\n",
       "      <td>300km</td>\n",
       "    </tr>\n",
       "    <tr>\n",
       "      <th>20</th>\n",
       "      <td>1366669571327950853</td>\n",
       "      <td>https://twitter.com/niewiniatko/status/1366669...</td>\n",
       "      <td>niewiniatko</td>\n",
       "      <td>Today with my PPSA colleagues we’re representi...</td>\n",
       "      <td>2021-03-02</td>\n",
       "      <td>EU</td>\n",
       "      <td>EU-est</td>\n",
       "      <td>EU</td>\n",
       "      <td>varsavia</td>\n",
       "      <td>300km</td>\n",
       "    </tr>\n",
       "  </tbody>\n",
       "</table>\n",
       "<p>3447 rows × 10 columns</p>\n",
       "</div>"
      ],
      "text/plain": [
       "                     id                                          permalink  \\\n",
       "0   1375026968136192000  https://twitter.com/IvetYord/status/1375026968...   \n",
       "0   1376105970594689024  https://twitter.com/HesterMcQueen/status/13761...   \n",
       "1   1375861727053680644  https://twitter.com/janewilson_1812/status/137...   \n",
       "2   1375373400932253699  https://twitter.com/HesterMcQueen/status/13753...   \n",
       "3   1375028252343947264  https://twitter.com/HesterMcQueen/status/13750...   \n",
       "..                  ...                                                ...   \n",
       "16  1369346107692757004  https://twitter.com/kachno85/status/1369346107...   \n",
       "17  1368521496243675139  https://twitter.com/jary76/status/136852149624...   \n",
       "18  1368299653121314818  https://twitter.com/PolonyaM/status/1368299653...   \n",
       "19  1366776472787165190  https://twitter.com/M_Baranowski/status/136677...   \n",
       "20  1366669571327950853  https://twitter.com/niewiniatko/status/1366669...   \n",
       "\n",
       "           username                                               text  \\\n",
       "0          IvetYord  Immunized part 1! Bulgaria's online registry f...   \n",
       "0     HesterMcQueen  Safe, stable, sold at cost: AstraZeneca’s vacc...   \n",
       "1   janewilson_1812  Feck knows what’s in that AstraZeneca... but I...   \n",
       "2     HesterMcQueen  What ARE they playing at? AstraZeneca row blow...   \n",
       "3     HesterMcQueen  Never again! AstraZeneca to scrap jabs at cost...   \n",
       "..              ...                                                ...   \n",
       "16         kachno85  I support @Europarl_EN resolution to declare t...   \n",
       "17           jary76  View on the #varsotower, the highest building ...   \n",
       "18         PolonyaM  #Fight4WomenTurkey #DictatorErdogan injustice ...   \n",
       "19     M_Baranowski  New U.S. sanctions against Russia - coordinate...   \n",
       "20      niewiniatko  Today with my PPSA colleagues we’re representi...   \n",
       "\n",
       "          date parola_cercata location area     citta raggio  \n",
       "0   2021-03-25    AstraZeneca   EU-est   EU  Bucarest  700km  \n",
       "0   2021-03-28    AstraZeneca  GB-Nord   GB  Edimburg  200km  \n",
       "1   2021-03-27    AstraZeneca  GB-Nord   GB  Edimburg  200km  \n",
       "2   2021-03-26    AstraZeneca  GB-Nord   GB  Edimburg  200km  \n",
       "3   2021-03-25    AstraZeneca  GB-Nord   GB  Edimburg  200km  \n",
       "..         ...            ...      ...  ...       ...    ...  \n",
       "16  2021-03-09             EU   EU-est   EU  varsavia  300km  \n",
       "17  2021-03-07             EU   EU-est   EU  varsavia  300km  \n",
       "18  2021-03-06             EU   EU-est   EU  varsavia  300km  \n",
       "19  2021-03-02             EU   EU-est   EU  varsavia  300km  \n",
       "20  2021-03-02             EU   EU-est   EU  varsavia  300km  \n",
       "\n",
       "[3447 rows x 10 columns]"
      ]
     },
     "execution_count": 129,
     "metadata": {},
     "output_type": "execute_result"
    }
   ],
   "source": [
    "df = pd.concat([pd.read_csv( f) for f in all_filenames ])\n",
    "df"
   ]
  },
  {
   "cell_type": "code",
   "execution_count": 136,
   "metadata": {},
   "outputs": [
    {
     "data": {
      "application/vnd.jupyter.widget-view+json": {
       "model_id": "c6cb45b764534a73b6bc943df5e05640",
       "version_major": 2,
       "version_minor": 0
      },
      "text/plain": [
       "QgridWidget(grid_options={'fullWidthRows': True, 'syncColumnCellResize': False, 'forceFitColumns': False, 'def…"
      ]
     },
     "metadata": {},
     "output_type": "display_data"
    }
   ],
   "source": [
    "qgrid.show_grid(df1,grid_options = {'forceFitColumns':False,'syncColumnCellResize': False,'highlightSelectedCell': True,'rowHeight': 25},\n",
    "                show_toolbar=True,\n",
    "               column_options ={ 'resizable': True,})"
   ]
  },
  {
   "cell_type": "code",
   "execution_count": null,
   "metadata": {},
   "outputs": [],
   "source": [
    "df = df[df.duplicated(subset=['permalink'])==False]\n",
    "df.to_csv(\"all_astrazeneca_eu_in_eu_gb_10042021.csv\", index=False)"
   ]
  }
 ],
 "metadata": {
  "kernelspec": {
   "display_name": "Python 3",
   "language": "python",
   "name": "python3"
  },
  "language_info": {
   "codemirror_mode": {
    "name": "ipython",
    "version": 3
   },
   "file_extension": ".py",
   "mimetype": "text/x-python",
   "name": "python",
   "nbconvert_exporter": "python",
   "pygments_lexer": "ipython3",
   "version": "3.7.4"
  }
 },
 "nbformat": 4,
 "nbformat_minor": 2
}
