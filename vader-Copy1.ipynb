{
 "cells": [
  {
   "cell_type": "code",
   "execution_count": 4,
   "metadata": {
    "scrolled": true
   },
   "outputs": [
    {
     "name": "stderr",
     "output_type": "stream",
     "text": [
      "[nltk_data] Downloading package vader_lexicon to\n",
      "[nltk_data]     C:\\Users\\tranchinake\\AppData\\Roaming\\nltk_data...\n",
      "[nltk_data]   Package vader_lexicon is already up-to-date!\n"
     ]
    }
   ],
   "source": [
    "import os \n",
    "import pandas as pd\n",
    "from datetime import datetime, timedelta\n",
    "import nltk\n",
    "import re ##regulare expression\n",
    "import string\n",
    "import matplotlib.pyplot as plt\n",
    "import subprocess\n",
    "from nltk.sentiment.vader import SentimentIntensityAnalyzer\n",
    "nltk.download('vader_lexicon')\n",
    "sid = SentimentIntensityAnalyzer()\n"
   ]
  },
  {
   "cell_type": "markdown",
   "metadata": {},
   "source": [
    "# Import Dataset"
   ]
  },
  {
   "cell_type": "code",
   "execution_count": 7,
   "metadata": {},
   "outputs": [],
   "source": [
    "# imposta il path dove vuoi hai i dati\n",
    "\n",
    "path = str(r'C:\\Users\\tranchinake\\Desktop\\DataScienceUniversity\\LabBusinessAnalytic\\Psicology\\DS_LAB_PSYCOLOGY_2021')\n",
    "path = path.replace(\"\\\\\",\"/\")\n",
    "os.chdir(path)"
   ]
  },
  {
   "cell_type": "code",
   "execution_count": 8,
   "metadata": {},
   "outputs": [
    {
     "data": {
      "text/plain": [
       "Index(['id', 'permalink', 'username', 'text', 'date', 'parola_cercata',\n",
       "       'location', 'area', 'citta', 'raggio'],\n",
       "      dtype='object')"
      ]
     },
     "execution_count": 8,
     "metadata": {},
     "output_type": "execute_result"
    }
   ],
   "source": [
    "# Lettura file \n",
    "# 33716 righe\n",
    "# vaccination = pd.read_csv(\"./dataset/dataset_europa_inghilterra/all_astrazeneca_eu_in_eu_gb.csv\")\n",
    "df = pd.read_csv(\"./dataset/all_astrazeneca_eu_in_eu_gb_10042021.csv\")\n",
    "df.columns"
   ]
  },
  {
   "cell_type": "markdown",
   "metadata": {},
   "source": [
    "# Sentiment Analysis\n",
    "## VADER ( Valence Aware Dictionary for Sentiment Reasoning)\n",
    "#### VADER  is a model used for text sentiment analysis that is sensitive to both polarity (positive/negative) and intensity (strength) of emotion. It is available in the NLTK package and can be applied directly to unlabeled text data.\n",
    "\n",
    "#### To calculate the sentimental score of the entire text, Vader scans the text for known sentimental features, modified the intensity and polarity according to the rules, summed up the scores of features found within the text and normalized the final score to (-1, 1) using function:\n",
    "\n",
    "\n",
    "\n",
    "$$ compound=\\frac{x}{\\sqrt{x^2 +a}}$$\n",
    "\n",
    " \n",
    "\n",
    "#### In Vader, alpha is set to be 15 which approximates the maximum expected value of x."
   ]
  },
  {
   "cell_type": "code",
   "execution_count": 1,
   "metadata": {},
   "outputs": [
    {
     "ename": "NameError",
     "evalue": "name 'sid' is not defined",
     "output_type": "error",
     "traceback": [
      "\u001b[1;31m---------------------------------------------------------------------------\u001b[0m",
      "\u001b[1;31mNameError\u001b[0m                                 Traceback (most recent call last)",
      "\u001b[1;32m<ipython-input-1-b2c82a01e0c2>\u001b[0m in \u001b[0;36m<module>\u001b[1;34m\u001b[0m\n\u001b[0;32m      1\u001b[0m \u001b[1;31m# Test\u001b[0m\u001b[1;33m\u001b[0m\u001b[1;33m\u001b[0m\u001b[1;33m\u001b[0m\u001b[0m\n\u001b[0;32m      2\u001b[0m \u001b[0ma\u001b[0m \u001b[1;33m=\u001b[0m \u001b[1;34m'I love my girl'\u001b[0m\u001b[1;33m\u001b[0m\u001b[1;33m\u001b[0m\u001b[0m\n\u001b[1;32m----> 3\u001b[1;33m \u001b[0mprint\u001b[0m\u001b[1;33m(\u001b[0m\u001b[0msid\u001b[0m\u001b[1;33m.\u001b[0m\u001b[0mpolarity_scores\u001b[0m\u001b[1;33m(\u001b[0m\u001b[0ma\u001b[0m\u001b[1;33m)\u001b[0m\u001b[1;33m)\u001b[0m\u001b[1;33m\u001b[0m\u001b[1;33m\u001b[0m\u001b[0m\n\u001b[0m\u001b[0;32m      4\u001b[0m \u001b[1;33m\u001b[0m\u001b[0m\n\u001b[0;32m      5\u001b[0m \u001b[1;31m#-0,5<x<+0.5\u001b[0m\u001b[1;33m\u001b[0m\u001b[1;33m\u001b[0m\u001b[1;33m\u001b[0m\u001b[0m\n",
      "\u001b[1;31mNameError\u001b[0m: name 'sid' is not defined"
     ]
    }
   ],
   "source": [
    "# Test\n",
    "a = 'I love my girl'\n",
    "print(sid.polarity_scores(a))\n",
    "\n",
    "#-0,5<x<+0.5 "
   ]
  },
  {
   "cell_type": "code",
   "execution_count": 11,
   "metadata": {},
   "outputs": [],
   "source": [
    "df['scores']  = df['text'].apply(lambda review: sid.polarity_scores(review))"
   ]
  },
  {
   "cell_type": "code",
   "execution_count": 12,
   "metadata": {},
   "outputs": [
    {
     "data": {
      "text/plain": [
       "0         {'neg': 0.0, 'neu': 0.665, 'pos': 0.335, 'comp...\n",
       "1         {'neg': 0.0, 'neu': 0.739, 'pos': 0.261, 'comp...\n",
       "2         {'neg': 0.0, 'neu': 0.521, 'pos': 0.479, 'comp...\n",
       "3         {'neg': 0.0, 'neu': 1.0, 'pos': 0.0, 'compound...\n",
       "4         {'neg': 0.0, 'neu': 1.0, 'pos': 0.0, 'compound...\n",
       "                                ...                        \n",
       "914757    {'neg': 0.0, 'neu': 0.707, 'pos': 0.293, 'comp...\n",
       "914758    {'neg': 0.0, 'neu': 1.0, 'pos': 0.0, 'compound...\n",
       "914759    {'neg': 0.0, 'neu': 1.0, 'pos': 0.0, 'compound...\n",
       "914760    {'neg': 0.524, 'neu': 0.476, 'pos': 0.0, 'comp...\n",
       "914761    {'neg': 0.178, 'neu': 0.701, 'pos': 0.121, 'co...\n",
       "Name: scores, Length: 914762, dtype: object"
      ]
     },
     "execution_count": 12,
     "metadata": {},
     "output_type": "execute_result"
    }
   ],
   "source": [
    "df['scores']"
   ]
  },
  {
   "cell_type": "code",
   "execution_count": 13,
   "metadata": {
    "scrolled": true
   },
   "outputs": [
    {
     "data": {
      "text/plain": [
       "0         0.9485\n",
       "1         0.5574\n",
       "2         0.7475\n",
       "3         0.0000\n",
       "4         0.0000\n",
       "           ...  \n",
       "914757    0.7003\n",
       "914758    0.0000\n",
       "914759    0.0000\n",
       "914760   -0.2960\n",
       "914761   -0.4588\n",
       "Name: compound, Length: 914762, dtype: float64"
      ]
     },
     "execution_count": 13,
     "metadata": {},
     "output_type": "execute_result"
    }
   ],
   "source": [
    "df['compound']  = df['scores'].apply(lambda score_dict: score_dict['compound'])\n",
    "df['compound']"
   ]
  },
  {
   "cell_type": "markdown",
   "metadata": {},
   "source": [
    "#### Salvataggio dataset"
   ]
  },
  {
   "cell_type": "code",
   "execution_count": 15,
   "metadata": {},
   "outputs": [],
   "source": [
    "df.to_csv(\"./dataset/dataset_europa_inghilterra_08042021/all_astrazeneca_eu_in_eu_gb_10042021-vader.csv\",index=False)"
   ]
  }
 ],
 "metadata": {
  "kernelspec": {
   "display_name": "Python 3",
   "language": "python",
   "name": "python3"
  },
  "language_info": {
   "codemirror_mode": {
    "name": "ipython",
    "version": 3
   },
   "file_extension": ".py",
   "mimetype": "text/x-python",
   "name": "python",
   "nbconvert_exporter": "python",
   "pygments_lexer": "ipython3",
   "version": "3.7.4"
  }
 },
 "nbformat": 4,
 "nbformat_minor": 2
}
